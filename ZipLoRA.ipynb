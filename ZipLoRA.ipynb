{
 "cells": [
  {
   "cell_type": "code",
   "execution_count": 25,
   "id": "0a65cff0-2038-469b-8695-4e6ec3eb8150",
   "metadata": {},
   "outputs": [
    {
     "name": "stderr",
     "output_type": "stream",
     "text": [
      "huggingface/tokenizers: The current process just got forked, after parallelism has already been used. Disabling parallelism to avoid deadlocks...\n",
      "To disable this warning, you can either:\n",
      "\t- Avoid using `tokenizers` before the fork if possible\n",
      "\t- Explicitly set the environment variable TOKENIZERS_PARALLELISM=(true | false)\n"
     ]
    },
    {
     "name": "stdout",
     "output_type": "stream",
     "text": [
      "Requirement already satisfied: glom in /usr/local/lib/python3.10/dist-packages (23.5.0)\n",
      "Requirement already satisfied: transformers in /usr/local/lib/python3.10/dist-packages (4.44.0)\n",
      "Requirement already satisfied: datasets in /usr/local/lib/python3.10/dist-packages (2.20.0)\n",
      "Requirement already satisfied: bitsandbytes in /usr/local/lib/python3.10/dist-packages (0.43.3)\n",
      "Requirement already satisfied: accelerate in /usr/local/lib/python3.10/dist-packages (0.33.0)\n",
      "Requirement already satisfied: peft in /usr/local/lib/python3.10/dist-packages (0.12.0)\n",
      "Requirement already satisfied: hf_transfer in /usr/local/lib/python3.10/dist-packages (0.1.8)\n",
      "Collecting matplotlib\n",
      "  Downloading matplotlib-3.9.1.post1-cp310-cp310-manylinux_2_17_x86_64.manylinux2014_x86_64.whl.metadata (11 kB)\n",
      "Requirement already satisfied: boltons>=19.3.0 in /usr/local/lib/python3.10/dist-packages (from glom) (24.0.0)\n",
      "Requirement already satisfied: attrs in /usr/local/lib/python3.10/dist-packages (from glom) (23.1.0)\n",
      "Requirement already satisfied: face==20.1.1 in /usr/local/lib/python3.10/dist-packages (from glom) (20.1.1)\n",
      "Requirement already satisfied: filelock in /usr/local/lib/python3.10/dist-packages (from transformers) (3.9.0)\n",
      "Requirement already satisfied: huggingface-hub<1.0,>=0.23.2 in /usr/local/lib/python3.10/dist-packages (from transformers) (0.24.5)\n",
      "Requirement already satisfied: numpy>=1.17 in /usr/local/lib/python3.10/dist-packages (from transformers) (1.24.1)\n",
      "Requirement already satisfied: packaging>=20.0 in /usr/local/lib/python3.10/dist-packages (from transformers) (23.2)\n",
      "Requirement already satisfied: pyyaml>=5.1 in /usr/local/lib/python3.10/dist-packages (from transformers) (6.0.1)\n",
      "Requirement already satisfied: regex!=2019.12.17 in /usr/local/lib/python3.10/dist-packages (from transformers) (2024.7.24)\n",
      "Requirement already satisfied: requests in /usr/local/lib/python3.10/dist-packages (from transformers) (2.32.3)\n",
      "Requirement already satisfied: safetensors>=0.4.1 in /usr/local/lib/python3.10/dist-packages (from transformers) (0.4.4)\n",
      "Requirement already satisfied: tokenizers<0.20,>=0.19 in /usr/local/lib/python3.10/dist-packages (from transformers) (0.19.1)\n",
      "Requirement already satisfied: tqdm>=4.27 in /usr/local/lib/python3.10/dist-packages (from transformers) (4.66.5)\n",
      "Requirement already satisfied: pyarrow>=15.0.0 in /usr/local/lib/python3.10/dist-packages (from datasets) (17.0.0)\n",
      "Requirement already satisfied: pyarrow-hotfix in /usr/local/lib/python3.10/dist-packages (from datasets) (0.6)\n",
      "Requirement already satisfied: dill<0.3.9,>=0.3.0 in /usr/local/lib/python3.10/dist-packages (from datasets) (0.3.8)\n",
      "Requirement already satisfied: pandas in /usr/local/lib/python3.10/dist-packages (from datasets) (2.2.2)\n",
      "Requirement already satisfied: xxhash in /usr/local/lib/python3.10/dist-packages (from datasets) (3.4.1)\n",
      "Requirement already satisfied: multiprocess in /usr/local/lib/python3.10/dist-packages (from datasets) (0.70.16)\n",
      "Requirement already satisfied: fsspec<=2024.5.0,>=2023.1.0 in /usr/local/lib/python3.10/dist-packages (from fsspec[http]<=2024.5.0,>=2023.1.0->datasets) (2024.5.0)\n",
      "Requirement already satisfied: aiohttp in /usr/local/lib/python3.10/dist-packages (from datasets) (3.10.3)\n",
      "Requirement already satisfied: torch in /usr/local/lib/python3.10/dist-packages (from bitsandbytes) (2.0.1+cu118)\n",
      "Requirement already satisfied: psutil in /usr/local/lib/python3.10/dist-packages (from accelerate) (5.9.6)\n",
      "Collecting contourpy>=1.0.1 (from matplotlib)\n",
      "  Downloading contourpy-1.2.1-cp310-cp310-manylinux_2_17_x86_64.manylinux2014_x86_64.whl.metadata (5.8 kB)\n",
      "Collecting cycler>=0.10 (from matplotlib)\n",
      "  Downloading cycler-0.12.1-py3-none-any.whl.metadata (3.8 kB)\n",
      "Collecting fonttools>=4.22.0 (from matplotlib)\n",
      "  Downloading fonttools-4.53.1-cp310-cp310-manylinux_2_17_x86_64.manylinux2014_x86_64.whl.metadata (162 kB)\n",
      "\u001b[2K     \u001b[90m━━━━━━━━━━━━━━━━━━━━━━━━━━━━━━━━━━━━━━━\u001b[0m \u001b[32m162.6/162.6 kB\u001b[0m \u001b[31m8.2 MB/s\u001b[0m eta \u001b[36m0:00:00\u001b[0m\n",
      "\u001b[?25hCollecting kiwisolver>=1.3.1 (from matplotlib)\n",
      "  Downloading kiwisolver-1.4.5-cp310-cp310-manylinux_2_12_x86_64.manylinux2010_x86_64.whl.metadata (6.4 kB)\n",
      "Requirement already satisfied: pillow>=8 in /usr/local/lib/python3.10/dist-packages (from matplotlib) (9.3.0)\n",
      "Requirement already satisfied: pyparsing>=2.3.1 in /usr/lib/python3/dist-packages (from matplotlib) (2.4.7)\n",
      "Requirement already satisfied: python-dateutil>=2.7 in /usr/local/lib/python3.10/dist-packages (from matplotlib) (2.8.2)\n",
      "Requirement already satisfied: aiohappyeyeballs>=2.3.0 in /usr/local/lib/python3.10/dist-packages (from aiohttp->datasets) (2.3.5)\n",
      "Requirement already satisfied: aiosignal>=1.1.2 in /usr/local/lib/python3.10/dist-packages (from aiohttp->datasets) (1.3.1)\n",
      "Requirement already satisfied: frozenlist>=1.1.1 in /usr/local/lib/python3.10/dist-packages (from aiohttp->datasets) (1.4.1)\n",
      "Requirement already satisfied: multidict<7.0,>=4.5 in /usr/local/lib/python3.10/dist-packages (from aiohttp->datasets) (6.0.5)\n",
      "Requirement already satisfied: yarl<2.0,>=1.0 in /usr/local/lib/python3.10/dist-packages (from aiohttp->datasets) (1.9.4)\n",
      "Requirement already satisfied: async-timeout<5.0,>=4.0 in /usr/local/lib/python3.10/dist-packages (from aiohttp->datasets) (4.0.3)\n",
      "Requirement already satisfied: typing-extensions>=3.7.4.3 in /usr/local/lib/python3.10/dist-packages (from huggingface-hub<1.0,>=0.23.2->transformers) (4.4.0)\n",
      "Requirement already satisfied: six>=1.5 in /usr/lib/python3/dist-packages (from python-dateutil>=2.7->matplotlib) (1.16.0)\n",
      "Requirement already satisfied: charset-normalizer<4,>=2 in /usr/local/lib/python3.10/dist-packages (from requests->transformers) (2.1.1)\n",
      "Requirement already satisfied: idna<4,>=2.5 in /usr/local/lib/python3.10/dist-packages (from requests->transformers) (3.4)\n",
      "Requirement already satisfied: urllib3<3,>=1.21.1 in /usr/local/lib/python3.10/dist-packages (from requests->transformers) (1.26.13)\n",
      "Requirement already satisfied: certifi>=2017.4.17 in /usr/local/lib/python3.10/dist-packages (from requests->transformers) (2022.12.7)\n",
      "Requirement already satisfied: sympy in /usr/local/lib/python3.10/dist-packages (from torch->bitsandbytes) (1.12)\n",
      "Requirement already satisfied: networkx in /usr/local/lib/python3.10/dist-packages (from torch->bitsandbytes) (3.0)\n",
      "Requirement already satisfied: jinja2 in /usr/local/lib/python3.10/dist-packages (from torch->bitsandbytes) (3.1.2)\n",
      "Requirement already satisfied: triton==2.0.0 in /usr/local/lib/python3.10/dist-packages (from torch->bitsandbytes) (2.0.0)\n",
      "Requirement already satisfied: cmake in /usr/local/lib/python3.10/dist-packages (from triton==2.0.0->torch->bitsandbytes) (3.25.0)\n",
      "Requirement already satisfied: lit in /usr/local/lib/python3.10/dist-packages (from triton==2.0.0->torch->bitsandbytes) (15.0.7)\n",
      "Requirement already satisfied: pytz>=2020.1 in /usr/local/lib/python3.10/dist-packages (from pandas->datasets) (2024.1)\n",
      "Requirement already satisfied: tzdata>=2022.7 in /usr/local/lib/python3.10/dist-packages (from pandas->datasets) (2024.1)\n",
      "Requirement already satisfied: MarkupSafe>=2.0 in /usr/local/lib/python3.10/dist-packages (from jinja2->torch->bitsandbytes) (2.1.2)\n",
      "Requirement already satisfied: mpmath>=0.19 in /usr/local/lib/python3.10/dist-packages (from sympy->torch->bitsandbytes) (1.3.0)\n",
      "Downloading matplotlib-3.9.1.post1-cp310-cp310-manylinux_2_17_x86_64.manylinux2014_x86_64.whl (8.3 MB)\n",
      "\u001b[2K   \u001b[90m━━━━━━━━━━━━━━━━━━━━━━━━━━━━━━━━━━━━━━━━\u001b[0m \u001b[32m8.3/8.3 MB\u001b[0m \u001b[31m54.1 MB/s\u001b[0m eta \u001b[36m0:00:00\u001b[0ma \u001b[36m0:00:01\u001b[0m\n",
      "\u001b[?25hDownloading contourpy-1.2.1-cp310-cp310-manylinux_2_17_x86_64.manylinux2014_x86_64.whl (305 kB)\n",
      "\u001b[2K   \u001b[90m━━━━━━━━━━━━━━━━━━━━━━━━━━━━━━━━━━━━━━━━\u001b[0m \u001b[32m305.2/305.2 kB\u001b[0m \u001b[31m70.1 MB/s\u001b[0m eta \u001b[36m0:00:00\u001b[0m\n",
      "\u001b[?25hDownloading cycler-0.12.1-py3-none-any.whl (8.3 kB)\n",
      "Downloading fonttools-4.53.1-cp310-cp310-manylinux_2_17_x86_64.manylinux2014_x86_64.whl (4.6 MB)\n",
      "\u001b[2K   \u001b[90m━━━━━━━━━━━━━━━━━━━━━━━━━━━━━━━━━━━━━━━━\u001b[0m \u001b[32m4.6/4.6 MB\u001b[0m \u001b[31m188.1 MB/s\u001b[0m eta \u001b[36m0:00:00\u001b[0m\n",
      "\u001b[?25hDownloading kiwisolver-1.4.5-cp310-cp310-manylinux_2_12_x86_64.manylinux2010_x86_64.whl (1.6 MB)\n",
      "\u001b[2K   \u001b[90m━━━━━━━━━━━━━━━━━━━━━━━━━━━━━━━━━━━━━━━━\u001b[0m \u001b[32m1.6/1.6 MB\u001b[0m \u001b[31m9.3 MB/s\u001b[0m eta \u001b[36m0:00:00\u001b[0ma \u001b[36m0:00:01\u001b[0m\n",
      "\u001b[?25hInstalling collected packages: kiwisolver, fonttools, cycler, contourpy, matplotlib\n",
      "Successfully installed contourpy-1.2.1 cycler-0.12.1 fonttools-4.53.1 kiwisolver-1.4.5 matplotlib-3.9.1.post1\n",
      "\u001b[33mWARNING: Running pip as the 'root' user can result in broken permissions and conflicting behaviour with the system package manager. It is recommended to use a virtual environment instead: https://pip.pypa.io/warnings/venv\u001b[0m\u001b[33m\n",
      "\u001b[0m\n",
      "\u001b[1m[\u001b[0m\u001b[34;49mnotice\u001b[0m\u001b[1;39;49m]\u001b[0m\u001b[39;49m A new release of pip is available: \u001b[0m\u001b[31;49m23.3.1\u001b[0m\u001b[39;49m -> \u001b[0m\u001b[32;49m24.2\u001b[0m\n",
      "\u001b[1m[\u001b[0m\u001b[34;49mnotice\u001b[0m\u001b[1;39;49m]\u001b[0m\u001b[39;49m To update, run: \u001b[0m\u001b[32;49mpython -m pip install --upgrade pip\u001b[0m\n",
      "Note: you may need to restart the kernel to use updated packages.\n"
     ]
    }
   ],
   "source": [
    "%pip install glom transformers datasets bitsandbytes accelerate peft hf_transfer matplotlib"
   ]
  },
  {
   "cell_type": "code",
   "execution_count": 4,
   "id": "5a592958-34f1-4eed-ac28-0fc94f580bd4",
   "metadata": {},
   "outputs": [
    {
     "name": "stdout",
     "output_type": "stream",
     "text": [
      "Collecting flash-attn\n",
      "  Downloading flash_attn-2.6.3.tar.gz (2.6 MB)\n",
      "\u001b[2K     \u001b[90m━━━━━━━━━━━━━━━━━━━━━━━━━━━━━━━━━━━━━━━━\u001b[0m \u001b[32m2.6/2.6 MB\u001b[0m \u001b[31m41.8 MB/s\u001b[0m eta \u001b[36m0:00:00\u001b[0ma \u001b[36m0:00:01\u001b[0m\n",
      "\u001b[?25h  Preparing metadata (setup.py) ... \u001b[?25ldone\n",
      "\u001b[?25hRequirement already satisfied: torch in /usr/local/lib/python3.10/dist-packages (from flash-attn) (2.0.1+cu118)\n",
      "Collecting einops (from flash-attn)\n",
      "  Downloading einops-0.8.0-py3-none-any.whl.metadata (12 kB)\n",
      "Requirement already satisfied: filelock in /usr/local/lib/python3.10/dist-packages (from torch->flash-attn) (3.9.0)\n",
      "Requirement already satisfied: typing-extensions in /usr/local/lib/python3.10/dist-packages (from torch->flash-attn) (4.4.0)\n",
      "Requirement already satisfied: sympy in /usr/local/lib/python3.10/dist-packages (from torch->flash-attn) (1.12)\n",
      "Requirement already satisfied: networkx in /usr/local/lib/python3.10/dist-packages (from torch->flash-attn) (3.0)\n",
      "Requirement already satisfied: jinja2 in /usr/local/lib/python3.10/dist-packages (from torch->flash-attn) (3.1.2)\n",
      "Requirement already satisfied: triton==2.0.0 in /usr/local/lib/python3.10/dist-packages (from torch->flash-attn) (2.0.0)\n",
      "Requirement already satisfied: cmake in /usr/local/lib/python3.10/dist-packages (from triton==2.0.0->torch->flash-attn) (3.25.0)\n",
      "Requirement already satisfied: lit in /usr/local/lib/python3.10/dist-packages (from triton==2.0.0->torch->flash-attn) (15.0.7)\n",
      "Requirement already satisfied: MarkupSafe>=2.0 in /usr/local/lib/python3.10/dist-packages (from jinja2->torch->flash-attn) (2.1.2)\n",
      "Requirement already satisfied: mpmath>=0.19 in /usr/local/lib/python3.10/dist-packages (from sympy->torch->flash-attn) (1.3.0)\n",
      "Downloading einops-0.8.0-py3-none-any.whl (43 kB)\n",
      "\u001b[2K   \u001b[90m━━━━━━━━━━━━━━━━━━━━━━━━━━━━━━━━━━━━━━━━\u001b[0m \u001b[32m43.2/43.2 kB\u001b[0m \u001b[31m11.4 MB/s\u001b[0m eta \u001b[36m0:00:00\u001b[0m\n",
      "\u001b[?25hBuilding wheels for collected packages: flash-attn\n",
      "  Building wheel for flash-attn (setup.py) ... \u001b[?25ldone\n",
      "\u001b[?25h  Created wheel for flash-attn: filename=flash_attn-2.6.3-cp310-cp310-linux_x86_64.whl size=188930485 sha256=f242b686e89e4bd88474ac4ceb7a5b19d738b4e63e2132f50edd7b6f397f8654\n",
      "  Stored in directory: /root/.cache/pip/wheels/7e/e3/c3/89c7a2f3c4adc07cd1c675f8bb7b9ad4d18f64a72bccdfe826\n",
      "Successfully built flash-attn\n",
      "Installing collected packages: einops, flash-attn\n",
      "Successfully installed einops-0.8.0 flash-attn-2.6.3\n",
      "\u001b[33mWARNING: Running pip as the 'root' user can result in broken permissions and conflicting behaviour with the system package manager. It is recommended to use a virtual environment instead: https://pip.pypa.io/warnings/venv\u001b[0m\u001b[33m\n",
      "\u001b[0m\n",
      "\u001b[1m[\u001b[0m\u001b[34;49mnotice\u001b[0m\u001b[1;39;49m]\u001b[0m\u001b[39;49m A new release of pip is available: \u001b[0m\u001b[31;49m23.3.1\u001b[0m\u001b[39;49m -> \u001b[0m\u001b[32;49m24.2\u001b[0m\n",
      "\u001b[1m[\u001b[0m\u001b[34;49mnotice\u001b[0m\u001b[1;39;49m]\u001b[0m\u001b[39;49m To update, run: \u001b[0m\u001b[32;49mpython -m pip install --upgrade pip\u001b[0m\n",
      "Note: you may need to restart the kernel to use updated packages.\n"
     ]
    }
   ],
   "source": [
    "%pip install flash-attn --no-build-isolation"
   ]
  },
  {
   "cell_type": "code",
   "execution_count": 1,
   "id": "9d5692e1-e524-4994-8d75-c8bf512b99bf",
   "metadata": {},
   "outputs": [],
   "source": [
    "import os\n",
    "\n",
    "os.environ['HF_HOME'] = '/workspace/.hf'\n",
    "os.environ['HF_HUB_ENABLE_HF_TRANSFER'] = '1'"
   ]
  },
  {
   "cell_type": "code",
   "execution_count": 2,
   "id": "60d42a0a-5fb1-496f-825e-e6352bb025d8",
   "metadata": {},
   "outputs": [
    {
     "name": "stderr",
     "output_type": "stream",
     "text": [
      "The model was loaded with use_flash_attention_2=True, which is deprecated and may be removed in a future release. Please use `attn_implementation=\"flash_attention_2\"` instead.\n"
     ]
    }
   ],
   "source": [
    "import torch\n",
    "import torch.nn.functional as F\n",
    "from transformers import AutoModelForCausalLM, AutoTokenizer\n",
    "\n",
    "MODEL_ID = \"Qwen/Qwen2-1.5B\"\n",
    "CODE_MODEL_ID = \"Replete-AI/Replete-Coder-Qwen2-1.5b\"\n",
    "GERMAN_MODEL_ID = \"VAGOsolutions/SauerkrautLM-1.5b\"\n",
    "\n",
    "base_model = AutoModelForCausalLM.from_pretrained(MODEL_ID, torch_dtype=torch.bfloat16, use_flash_attention_2=True, device_map=\"auto\")\n",
    "code_model = AutoModelForCausalLM.from_pretrained(CODE_MODEL_ID, torch_dtype=torch.bfloat16, use_flash_attention_2=True, device_map=\"auto\")\n",
    "german_model = AutoModelForCausalLM.from_pretrained(GERMAN_MODEL_ID, torch_dtype=torch.bfloat16, use_flash_attention_2=True, device_map=\"auto\")\n",
    "\n",
    "tokenizer = AutoTokenizer.from_pretrained(MODEL_ID, use_fast=True)"
   ]
  },
  {
   "cell_type": "code",
   "execution_count": 3,
   "id": "dd168b71-1b71-42ab-9794-7dc506bf4450",
   "metadata": {},
   "outputs": [],
   "source": [
    "import os\n",
    "import torch\n",
    "import torch\n",
    "import bitsandbytes as bnb\n",
    "from transformers import AutoModelForCausalLM, AutoConfig, AutoTokenizer\n",
    "from peft.tuners.lora import QuantLinear\n",
    "\n",
    "\n",
    "def get_linear_embedding_layers(model_type):\n",
    "    \"\"\"\n",
    "    returns the linear embedding layers needed for loras, dependent on the model arch\n",
    "    \"\"\"\n",
    "    if model_type == \"gpt_neox\":\n",
    "        return [\"embed_in\", \"embed_out\"]\n",
    "    if model_type == \"falcon\":\n",
    "        return [\"word_embeddings\", \"lm_head\"]\n",
    "    return [\"embed_tokens\", \"lm_head\"]\n",
    "\n",
    "\n",
    "def find_all_linear_names(model):\n",
    "    cls = (bnb.nn.Linear4bit, bnb.nn.Linear8bitLt, torch.nn.Linear, QuantLinear)\n",
    "\n",
    "    names = []\n",
    "    for name, module in model.named_modules():\n",
    "        if (\n",
    "            isinstance(module, cls)\n",
    "            or \"Linear\" in module.__class__.__name__\n",
    "            and module.__class__.__name__ not in (\"LlamaLinearScalingRotaryEmbedding\",)\n",
    "        ):\n",
    "            names.append(name)\n",
    "\n",
    "\n",
    "    return names"
   ]
  },
  {
   "cell_type": "code",
   "execution_count": 4,
   "id": "db6f60e3-f15b-4288-a6da-a9c9026ba8a4",
   "metadata": {},
   "outputs": [],
   "source": [
    "modules = find_all_linear_names(base_model)"
   ]
  },
  {
   "cell_type": "code",
   "execution_count": 5,
   "id": "5127a836-de23-455d-9adf-4cdee7d72a92",
   "metadata": {},
   "outputs": [],
   "source": [
    "def compute_ziplora_loss_for_lm(model, content_prompt, style_prompt, lambda_coef=0.01, temperature=2.0):\n",
    "    # Tokenize inputs\n",
    "    batch = tokenizer([content_prompt, style_prompt], padding=\"max_length\", truncation=True, max_length=4096, return_tensors='pt')\n",
    "\n",
    "    input_ids = batch[\"input_ids\"].to(model.device)\n",
    "    attention_mask = batch[\"attention_mask\"].to(model.device)\n",
    "\n",
    "    # Split inputs for code and German\n",
    "    code_input = input_ids[0].to(model.device)\n",
    "    german_input = input_ids[1].to(model.device)\n",
    "\n",
    "    # Prepare labels (shifted input_ids)\n",
    "    labels = batch[\"input_ids\"].clone()\n",
    "    labels[attention_mask == 0] = -100  # Set padding token positions to -100\n",
    "\n",
    "    code_labels = labels[0].to(model.device)\n",
    "    german_labels = labels[1].to(model.device)\n",
    "\n",
    "    with torch.no_grad():\n",
    "        # Get logits from code model\n",
    "        for module in model.modules():\n",
    "            if isinstance(module, ZipLoRALinearLayer):\n",
    "                module.set_forward_type('weight_1')\n",
    "        original_code_logits = model(input_ids=code_input.unsqueeze(0), labels=code_labels.unsqueeze(0)).logits\n",
    "\n",
    "        # Get logits from German model\n",
    "        for module in model.modules():\n",
    "            if isinstance(module, ZipLoRALinearLayer):\n",
    "                module.set_forward_type('weight_2')\n",
    "        original_german_logits = model(input_ids=german_input.unsqueeze(0), labels=german_labels.unsqueeze(0)).logits\n",
    "\n",
    "    # Set model to merged mode\n",
    "    for module in model.modules():\n",
    "        if isinstance(module, ZipLoRALinearLayer):\n",
    "            module.set_forward_type('merge')   \n",
    "\n",
    "    # Get logits from merged model for both inputs\n",
    "    merged_code_logits = model(input_ids=code_input.unsqueeze(0), labels=code_labels.unsqueeze(0)).logits\n",
    "    merged_german_logits = model(input_ids=german_input.unsqueeze(0), labels=german_labels.unsqueeze(0)).logits\n",
    "\n",
    "    # Calculate content loss (KL divergence between merged and original code logits)\n",
    "    content_loss = F.kl_div(\n",
    "        F.log_softmax(merged_code_logits / temperature, dim=-1),\n",
    "        F.softmax(original_code_logits / temperature, dim=-1),\n",
    "        reduction='batchmean'\n",
    "    ) * (temperature ** 2) / len(code_input)\n",
    "    \n",
    "    # Calculate style loss (KL divergence between merged and original German logits)\n",
    "    style_loss = F.kl_div(\n",
    "        F.log_softmax(merged_german_logits / temperature, dim=-1),\n",
    "        F.softmax(original_german_logits / temperature, dim=-1),\n",
    "        reduction='batchmean'\n",
    "    ) * (temperature ** 2) / len(german_input)\n",
    "    \n",
    "    # Calculate similarity loss to encourage diversity between mergers\n",
    "    similarity_loss = 0.0\n",
    "    for module in base_model.modules():\n",
    "        if isinstance(module, ZipLoRALinearLayer):\n",
    "            similarity_loss += module.compute_mergers_similarity()\n",
    "    \n",
    "    # Combine losses\n",
    "    total_loss = content_loss + style_loss + lambda_coef * similarity_loss\n",
    "\n",
    "    return total_loss"
   ]
  },
  {
   "cell_type": "code",
   "execution_count": 6,
   "id": "653eb25b-89dc-4d43-a8cf-0efb9b9ee124",
   "metadata": {},
   "outputs": [
    {
     "name": "stderr",
     "output_type": "stream",
     "text": [
      "100%|██████████| 197/197 [00:00<00:00, 1857.35it/s]\n"
     ]
    }
   ],
   "source": [
    "from tqdm import tqdm\n",
    "from glom import glom, Assign\n",
    "\n",
    "for m in tqdm(modules):\n",
    "    linear_a = glom(code_model, m)\n",
    "    linear_b = glom(german_model, m)\n",
    "    \n",
    "    zipped = ZipLoRALinearLayer(\n",
    "        linear_a=linear_a,\n",
    "        linear_b=linear_b,\n",
    "        init_merger_value=0.5,\n",
    "        init_merger_value_2=0.5,\n",
    "        device=base_model.device,\n",
    "        dtype=linear_a.weight.dtype\n",
    "    )\n",
    "\n",
    "    assign = Assign(m, zipped)\n",
    "    glom(base_model, assign)"
   ]
  },
  {
   "cell_type": "code",
   "execution_count": 7,
   "id": "8d08ed0a-32a7-48b2-ba8c-8d4f129b45d4",
   "metadata": {},
   "outputs": [],
   "source": [
    "import gc\n",
    "code_model.cpu()\n",
    "german_model.cpu()\n",
    "\n",
    "del code_model, german_model\n",
    "gc.collect()\n",
    "torch.cuda.empty_cache()"
   ]
  },
  {
   "cell_type": "code",
   "execution_count": 8,
   "id": "a7d3adba-4a38-4e11-b605-572c6927c86b",
   "metadata": {},
   "outputs": [
    {
     "data": {
      "text/plain": [
       "\"Many consider Washington D.C.'s George Washington as the most famous president in history due to his influential role during the American Revolution and his successful leadership of the First Continental Congress that laid the foundation of independence from Great Britain. He also achieved significant diplomatic tasks and is often considered father of the United States.\\nWhile this\""
      ]
     },
     "execution_count": 8,
     "metadata": {},
     "output_type": "execute_result"
    }
   ],
   "source": [
    "from transformers import pipeline\n",
    "\n",
    "generator = pipeline(model=base_model, task='text-generation', tokenizer=tokenizer)\n",
    "generator([{\"role\": \"user\", \"content\": \"Who is the most famous president in history?\"}], do_sample=True, max_new_tokens=64)[0]['generated_text'][-1]['content']"
   ]
  },
  {
   "cell_type": "code",
   "execution_count": 9,
   "id": "9a881419-dab2-485a-9c71-58fcecf9fdc8",
   "metadata": {},
   "outputs": [],
   "source": [
    "from datasets import load_dataset\n",
    "\n",
    "code_dataset = load_dataset(\"HuggingFaceH4/CodeAlpaca_20K\")"
   ]
  },
  {
   "cell_type": "code",
   "execution_count": 10,
   "id": "9ef650d0-8f82-4138-930d-d10f62cd18fd",
   "metadata": {},
   "outputs": [],
   "source": [
    "templated_code_dataset = code_dataset.map(lambda row: {'text' : tokenizer.apply_chat_template([{'role': 'user', 'content': row['prompt']}, {'role': 'assistant', 'content': row['completion'] }], tokenize=False).strip()})"
   ]
  },
  {
   "cell_type": "code",
   "execution_count": 11,
   "id": "ca9c1893-fd1b-4d8e-b13f-0a519e9891e4",
   "metadata": {},
   "outputs": [],
   "source": [
    "from datasets import load_dataset\n",
    "\n",
    "german_dataset = load_dataset(\"bjoernp/ultrachat_de\")"
   ]
  },
  {
   "cell_type": "code",
   "execution_count": 12,
   "id": "059c12d9-b8d7-413e-9035-2e2e698b1784",
   "metadata": {},
   "outputs": [],
   "source": [
    "def convert_sharegpt(convo):\n",
    "    role_map = {'system': 'system', 'human': 'user', 'gpt': 'assistant'}\n",
    "    return [{'role': role_map[e['from']], 'content': e['value']} for e in convo]"
   ]
  },
  {
   "cell_type": "code",
   "execution_count": 13,
   "id": "4390f309-621b-47e9-9f45-8cdfffe2fa34",
   "metadata": {},
   "outputs": [],
   "source": [
    "templated_german_dataset = german_dataset.map(lambda row: {'text' : tokenizer.apply_chat_template(convert_sharegpt(row['conversations']), tokenize=False).strip()})"
   ]
  },
  {
   "cell_type": "code",
   "execution_count": 14,
   "id": "1ecdee9c-06fc-468e-a049-8e56db198ec9",
   "metadata": {},
   "outputs": [],
   "source": [
    "def compute_ziplora_loss_for_lm(model, content_prompt, style_prompt, lambda_coef=0.01, temperature=2.0):\n",
    "    # Tokenize inputs\n",
    "    batch = tokenizer([content_prompt, style_prompt], padding=\"max_length\", truncation=True, max_length=4096, return_tensors='pt')\n",
    "\n",
    "    input_ids = batch[\"input_ids\"].to(model.device)\n",
    "    attention_mask = batch[\"attention_mask\"].to(model.device)\n",
    "\n",
    "    # Split inputs for code and German\n",
    "    code_input = input_ids[0].to(model.device)\n",
    "    german_input = input_ids[1].to(model.device)\n",
    "\n",
    "    # Prepare labels (shifted input_ids)\n",
    "    labels = batch[\"input_ids\"].clone()\n",
    "    labels[attention_mask == 0] = -100  # Set padding token positions to -100\n",
    "\n",
    "    code_labels = labels[0].to(model.device)\n",
    "    german_labels = labels[1].to(model.device)\n",
    "\n",
    "    with torch.no_grad():\n",
    "        # Get logits from model_A (code model)\n",
    "        for module in model.modules():\n",
    "            if isinstance(module, ZipLoRALinearLayer):\n",
    "                module.set_forward_type('weight_1')\n",
    "        original_code_logits = model(input_ids=code_input.unsqueeze(0), labels=code_labels.unsqueeze(0)).logits\n",
    "\n",
    "        # Get logits from model_B (German model)\n",
    "        for module in model.modules():\n",
    "            if isinstance(module, ZipLoRALinearLayer):\n",
    "                module.set_forward_type('weight_2')\n",
    "        original_german_logits = model(input_ids=german_input.unsqueeze(0), labels=german_labels.unsqueeze(0)).logits\n",
    "\n",
    "    # Set model to merged mode\n",
    "    for module in model.modules():\n",
    "        if isinstance(module, ZipLoRALinearLayer):\n",
    "            module.set_forward_type('merge')   \n",
    "\n",
    "    # Get logits from merged model for both inputs\n",
    "    merged_code_logits = model(input_ids=code_input.unsqueeze(0), labels=code_labels.unsqueeze(0)).logits\n",
    "    merged_german_logits = model(input_ids=german_input.unsqueeze(0), labels=german_labels.unsqueeze(0)).logits\n",
    "\n",
    "    # Calculate content loss (KL divergence between merged and original code logits)\n",
    "    content_loss = F.kl_div(\n",
    "        F.log_softmax(merged_code_logits / temperature, dim=-1),\n",
    "        F.softmax(original_code_logits / temperature, dim=-1),\n",
    "        reduction='batchmean'\n",
    "    ) * (temperature ** 2) / len(code_input)\n",
    "    \n",
    "    # Calculate style loss (KL divergence between merged and original German logits)\n",
    "    style_loss = F.kl_div(\n",
    "        F.log_softmax(merged_german_logits / temperature, dim=-1),\n",
    "        F.softmax(original_german_logits / temperature, dim=-1),\n",
    "        reduction='batchmean'\n",
    "    ) * (temperature ** 2) / len(german_input)\n",
    "    \n",
    "    # Calculate similarity loss to encourage diversity between mergers\n",
    "    similarity_loss = 0.0\n",
    "    for module in base_model.modules():\n",
    "        if isinstance(module, ZipLoRALinearLayer):\n",
    "            similarity_loss += module.compute_mergers_similarity()\n",
    "    \n",
    "    # Combine losses\n",
    "    total_loss = content_loss + style_loss + lambda_coef * similarity_loss\n",
    "\n",
    "    return total_loss"
   ]
  },
  {
   "cell_type": "code",
   "execution_count": 15,
   "id": "ad9f51ae-908d-448d-a7bc-bd2606977079",
   "metadata": {},
   "outputs": [
    {
     "data": {
      "image/png": "[encoded data removed]",
      "text/plain": [
       "<Figure size 640x480 with 1 Axes>"
      ]
     },
     "metadata": {},
     "output_type": "display_data"
    },
    {
     "name": "stderr",
     "output_type": "stream",
     "text": [
      "Epoch 3/3: 100%|██████████| 959/959 [17:51<00:00,  1.12s/it, loss=1.6146]"
     ]
    },
    {
     "name": "stdout",
     "output_type": "stream",
     "text": [
      "Epoch 3/3, Average Loss: 1.5525\n"
     ]
    },
    {
     "name": "stderr",
     "output_type": "stream",
     "text": [
      "\n"
     ]
    },
    {
     "data": {
      "image/png": "[encoded data removed]",
      "text/plain": [
       "<Figure size 1000x500 with 1 Axes>"
      ]
     },
     "metadata": {},
     "output_type": "display_data"
    }
   ],
   "source": [
    "import torch\n",
    "from torch.utils.data import DataLoader\n",
    "from transformers import AutoModelForCausalLM, AutoTokenizer\n",
    "from datasets import load_dataset\n",
    "from tqdm import tqdm\n",
    "import matplotlib.pyplot as plt\n",
    "from IPython.display import clear_output\n",
    "import random\n",
    "\n",
    "optimizer = torch.optim.AdamW(base_model.parameters(), lr=1e-3)\n",
    "\n",
    "num_epochs = 1\n",
    "\n",
    "plt.figure(figsize=(10,5))\n",
    "plt.title(\"Training Loss\")\n",
    "plt.xlabel(\"Iteration\")\n",
    "plt.ylabel(\"Loss\")\n",
    "losses = []\n",
    "\n",
    "for epoch in range(num_epochs):\n",
    "    base_model.train()\n",
    "    total_loss = 0\n",
    "    \n",
    "    progress_bar = tqdm(zip(random.sample(templated_code_dataset['train']['text'], len(templated_code_dataset['train']['text'])), random.sample(templated_german_dataset['train']['text'], len(templated_german_dataset['train']['text']))), \n",
    "                        total=min([len(templated_code_dataset['train']['text']), len(templated_german_dataset['train']['text'])]),\n",
    "                        desc=f\"Epoch {epoch+1}/{num_epochs}\")\n",
    "    \n",
    "    for i, (sql, de) in enumerate(progress_bar):\n",
    "        loss = compute_ziplora_loss_for_lm(base_model, sql, de)\n",
    "\n",
    "        loss.backward()\n",
    "        \n",
    "        optimizer.step()\n",
    "        optimizer.zero_grad()\n",
    "        \n",
    "        current_loss = loss.item()\n",
    "        total_loss += current_loss\n",
    "        losses.append(current_loss)\n",
    "\n",
    "        progress_bar.set_postfix({'loss': f'{current_loss:.4f}'})\n",
    "\n",
    "        if i % 10 == 0:\n",
    "            clear_output(wait=True)\n",
    "            plt.clf()\n",
    "            plt.plot(losses)\n",
    "            plt.title(\"Training Loss\")\n",
    "            plt.xlabel(\"Iteration\")\n",
    "            plt.ylabel(\"Loss\")\n",
    "            plt.show()\n",
    "    \n",
    "    avg_loss = total_loss / len(progress_bar)\n",
    "    print(f\"Epoch {epoch+1}/{num_epochs}, Average Loss: {avg_loss:.4f}\")\n",
    "\n",
    "plt.figure(figsize=(10,5))\n",
    "plt.plot(losses)\n",
    "plt.title(\"Training Loss\")\n",
    "plt.xlabel(\"Iteration\")\n",
    "plt.ylabel(\"Loss\")\n",
    "plt.show()"
   ]
  },
  {
   "cell_type": "code",
   "execution_count": 16,
   "id": "2e97624c-a03a-4df8-8021-f8a1805d7ba5",
   "metadata": {},
   "outputs": [
    {
     "name": "stderr",
     "output_type": "stream",
     "text": [
      "Merging layers: 398it [00:00, 10245.20it/s]\n"
     ]
    },
    {
     "name": "stdout",
     "output_type": "stream",
     "text": [
      "Merged model saved successfully!\n"
     ]
    }
   ],
   "source": [
    "import torch\n",
    "from transformers import AutoModelForCausalLM\n",
    "from tqdm import tqdm\n",
    "\n",
    "# Create a new model instance with the same architecture as the base model\n",
    "new_model = AutoModelForCausalLM.from_pretrained(MODEL_ID, torch_dtype=torch.bfloat16)\n",
    "\n",
    "# Iterate through all modules and update weights for ZipLoRALinearLayers\n",
    "for (name, module), (_, new_module) in tqdm(zip(base_model.named_modules(), new_model.named_modules()), \n",
    "                                            desc=\"Merging layers\"):\n",
    "    if isinstance(module, ZipLoRALinearLayer):\n",
    "        # Get the merged weight and bias\n",
    "        merged_weight = module.get_ziplora_weight()\n",
    "        merged_bias = module.get_ziplora_bias()\n",
    "        \n",
    "        # Update the weights and bias of the corresponding layer in the new model\n",
    "        new_module.weight.data = merged_weight\n",
    "        if merged_bias is not None:\n",
    "            new_module.bias.data = merged_bias\n",
    "\n",
    "# Save the new model\n",
    "new_model.save_pretrained(\"/workspace/zip_merged\")\n",
    "tokenizer.save_pretrained(\"/workspace/zip_merged\")\n",
    "\n",
    "print(\"Merged model saved successfully!\")"
   ]
  }
 ],
 "metadata": {
  "kernelspec": {
   "display_name": "Python 3 (ipykernel)",
   "language": "python",
   "name": "python3"
  },
  "language_info": {
   "codemirror_mode": {
    "name": "ipython",
    "version": 3
   },
   "file_extension": ".py",
   "mimetype": "text/x-python",
   "name": "python",
   "nbconvert_exporter": "python",
   "pygments_lexer": "ipython3",
   "version": "3.10.12"
  }
 },
 "nbformat": 4,
 "nbformat_minor": 5
}
