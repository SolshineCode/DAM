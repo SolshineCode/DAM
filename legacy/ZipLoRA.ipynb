{
 "cells": [
  {
   "cell_type": "code",
   "execution_count": 3,
   "id": "5636e40f-bcd3-4658-9438-9d7f4bef6235",
   "metadata": {},
   "outputs": [
    {
     "name": "stdout",
     "output_type": "stream",
     "text": [
      "Collecting glom\n",
      "  Downloading glom-23.5.0-py3-none-any.whl.metadata (5.1 kB)\n",
      "Collecting transformers\n",
      "  Downloading transformers-4.44.0-py3-none-any.whl.metadata (43 kB)\n",
      "\u001b[2K     \u001b[90m━━━━━━━━━━━━━━━━━━━━━━━━━━━━━━━━━━━━━━━━\u001b[0m \u001b[32m43.7/43.7 kB\u001b[0m \u001b[31m2.4 MB/s\u001b[0m eta \u001b[36m0:00:00\u001b[0m\n",
      "\u001b[?25hCollecting datasets\n",
      "  Downloading datasets-2.21.0-py3-none-any.whl.metadata (21 kB)\n",
      "Collecting bitsandbytes\n",
      "  Downloading bitsandbytes-0.43.3-py3-none-manylinux_2_24_x86_64.whl.metadata (3.5 kB)\n",
      "Collecting accelerate\n",
      "  Downloading accelerate-0.33.0-py3-none-any.whl.metadata (18 kB)\n",
      "Collecting peft\n",
      "  Downloading peft-0.12.0-py3-none-any.whl.metadata (13 kB)\n",
      "Collecting hf_transfer\n",
      "  Downloading hf_transfer-0.1.8-cp310-cp310-manylinux_2_17_x86_64.manylinux2014_x86_64.whl.metadata (1.7 kB)\n",
      "Collecting matplotlib\n",
      "  Downloading matplotlib-3.9.2-cp310-cp310-manylinux_2_17_x86_64.manylinux2014_x86_64.whl.metadata (11 kB)\n",
      "Collecting boltons>=19.3.0 (from glom)\n",
      "  Downloading boltons-24.0.0-py3-none-any.whl.metadata (1.5 kB)\n",
      "Requirement already satisfied: attrs in /usr/local/lib/python3.10/dist-packages (from glom) (23.1.0)\n",
      "Collecting face==20.1.1 (from glom)\n",
      "  Downloading face-20.1.1-py3-none-any.whl.metadata (868 bytes)\n",
      "Requirement already satisfied: filelock in /usr/local/lib/python3.10/dist-packages (from transformers) (3.9.0)\n",
      "Collecting huggingface-hub<1.0,>=0.23.2 (from transformers)\n",
      "  Downloading huggingface_hub-0.24.5-py3-none-any.whl.metadata (13 kB)\n",
      "Requirement already satisfied: numpy>=1.17 in /usr/local/lib/python3.10/dist-packages (from transformers) (1.24.1)\n",
      "Requirement already satisfied: packaging>=20.0 in /usr/local/lib/python3.10/dist-packages (from transformers) (23.2)\n",
      "Requirement already satisfied: pyyaml>=5.1 in /usr/local/lib/python3.10/dist-packages (from transformers) (6.0.1)\n",
      "Collecting regex!=2019.12.17 (from transformers)\n",
      "  Downloading regex-2024.7.24-cp310-cp310-manylinux_2_17_x86_64.manylinux2014_x86_64.whl.metadata (40 kB)\n",
      "\u001b[2K     \u001b[90m━━━━━━━━━━━━━━━━━━━━━━━━━━━━━━━━━━━━━━━━\u001b[0m \u001b[32m40.5/40.5 kB\u001b[0m \u001b[31m5.2 MB/s\u001b[0m eta \u001b[36m0:00:00\u001b[0m\n",
      "\u001b[?25hRequirement already satisfied: requests in /usr/local/lib/python3.10/dist-packages (from transformers) (2.31.0)\n",
      "Collecting safetensors>=0.4.1 (from transformers)\n",
      "  Downloading safetensors-0.4.4-cp310-cp310-manylinux_2_17_x86_64.manylinux2014_x86_64.whl.metadata (3.8 kB)\n",
      "Collecting tokenizers<0.20,>=0.19 (from transformers)\n",
      "  Downloading tokenizers-0.19.1-cp310-cp310-manylinux_2_17_x86_64.manylinux2014_x86_64.whl.metadata (6.7 kB)\n",
      "Collecting tqdm>=4.27 (from transformers)\n",
      "  Downloading tqdm-4.66.5-py3-none-any.whl.metadata (57 kB)\n",
      "\u001b[2K     \u001b[90m━━━━━━━━━━━━━━━━━━━━━━━━━━━━━━━━━━━━━━━━\u001b[0m \u001b[32m57.6/57.6 kB\u001b[0m \u001b[31m7.3 MB/s\u001b[0m eta \u001b[36m0:00:00\u001b[0m\n",
      "\u001b[?25hCollecting pyarrow>=15.0.0 (from datasets)\n",
      "  Downloading pyarrow-17.0.0-cp310-cp310-manylinux_2_28_x86_64.whl.metadata (3.3 kB)\n",
      "Collecting dill<0.3.9,>=0.3.0 (from datasets)\n",
      "  Downloading dill-0.3.8-py3-none-any.whl.metadata (10 kB)\n",
      "Collecting pandas (from datasets)\n",
      "  Downloading pandas-2.2.2-cp310-cp310-manylinux_2_17_x86_64.manylinux2014_x86_64.whl.metadata (19 kB)\n",
      "Collecting requests (from transformers)\n",
      "  Downloading requests-2.32.3-py3-none-any.whl.metadata (4.6 kB)\n",
      "Collecting xxhash (from datasets)\n",
      "  Downloading xxhash-3.4.1-cp310-cp310-manylinux_2_17_x86_64.manylinux2014_x86_64.whl.metadata (12 kB)\n",
      "Collecting multiprocess (from datasets)\n",
      "  Downloading multiprocess-0.70.16-py310-none-any.whl.metadata (7.2 kB)\n",
      "Collecting fsspec<=2024.6.1,>=2023.1.0 (from fsspec[http]<=2024.6.1,>=2023.1.0->datasets)\n",
      "  Downloading fsspec-2024.6.1-py3-none-any.whl.metadata (11 kB)\n",
      "Collecting aiohttp (from datasets)\n",
      "  Downloading aiohttp-3.10.3-cp310-cp310-manylinux_2_17_x86_64.manylinux2014_x86_64.whl.metadata (7.5 kB)\n",
      "Requirement already satisfied: torch in /usr/local/lib/python3.10/dist-packages (from bitsandbytes) (2.0.1+cu118)\n",
      "Requirement already satisfied: psutil in /usr/local/lib/python3.10/dist-packages (from accelerate) (5.9.6)\n",
      "Collecting contourpy>=1.0.1 (from matplotlib)\n",
      "  Downloading contourpy-1.2.1-cp310-cp310-manylinux_2_17_x86_64.manylinux2014_x86_64.whl.metadata (5.8 kB)\n",
      "Collecting cycler>=0.10 (from matplotlib)\n",
      "  Downloading cycler-0.12.1-py3-none-any.whl.metadata (3.8 kB)\n",
      "Collecting fonttools>=4.22.0 (from matplotlib)\n",
      "  Downloading fonttools-4.53.1-cp310-cp310-manylinux_2_17_x86_64.manylinux2014_x86_64.whl.metadata (162 kB)\n",
      "\u001b[2K     \u001b[90m━━━━━━━━━━━━━━━━━━━━━━━━━━━━━━━━━━━━━━\u001b[0m \u001b[32m162.6/162.6 kB\u001b[0m \u001b[31m12.6 MB/s\u001b[0m eta \u001b[36m0:00:00\u001b[0m\n",
      "\u001b[?25hCollecting kiwisolver>=1.3.1 (from matplotlib)\n",
      "  Downloading kiwisolver-1.4.5-cp310-cp310-manylinux_2_12_x86_64.manylinux2010_x86_64.whl.metadata (6.4 kB)\n",
      "Requirement already satisfied: pillow>=8 in /usr/local/lib/python3.10/dist-packages (from matplotlib) (9.3.0)\n",
      "Requirement already satisfied: pyparsing>=2.3.1 in /usr/lib/python3/dist-packages (from matplotlib) (2.4.7)\n",
      "Requirement already satisfied: python-dateutil>=2.7 in /usr/local/lib/python3.10/dist-packages (from matplotlib) (2.8.2)\n",
      "Collecting aiohappyeyeballs>=2.3.0 (from aiohttp->datasets)\n",
      "  Downloading aiohappyeyeballs-2.3.6-py3-none-any.whl.metadata (5.8 kB)\n",
      "Collecting aiosignal>=1.1.2 (from aiohttp->datasets)\n",
      "  Downloading aiosignal-1.3.1-py3-none-any.whl.metadata (4.0 kB)\n",
      "Collecting frozenlist>=1.1.1 (from aiohttp->datasets)\n",
      "  Downloading frozenlist-1.4.1-cp310-cp310-manylinux_2_5_x86_64.manylinux1_x86_64.manylinux_2_17_x86_64.manylinux2014_x86_64.whl.metadata (12 kB)\n",
      "Collecting multidict<7.0,>=4.5 (from aiohttp->datasets)\n",
      "  Downloading multidict-6.0.5-cp310-cp310-manylinux_2_17_x86_64.manylinux2014_x86_64.whl.metadata (4.2 kB)\n",
      "Collecting yarl<2.0,>=1.0 (from aiohttp->datasets)\n",
      "  Downloading yarl-1.9.4-cp310-cp310-manylinux_2_17_x86_64.manylinux2014_x86_64.whl.metadata (31 kB)\n",
      "Collecting async-timeout<5.0,>=4.0 (from aiohttp->datasets)\n",
      "  Downloading async_timeout-4.0.3-py3-none-any.whl.metadata (4.2 kB)\n",
      "Requirement already satisfied: typing-extensions>=3.7.4.3 in /usr/local/lib/python3.10/dist-packages (from huggingface-hub<1.0,>=0.23.2->transformers) (4.4.0)\n",
      "Requirement already satisfied: six>=1.5 in /usr/lib/python3/dist-packages (from python-dateutil>=2.7->matplotlib) (1.16.0)\n",
      "Requirement already satisfied: charset-normalizer<4,>=2 in /usr/local/lib/python3.10/dist-packages (from requests->transformers) (2.1.1)\n",
      "Requirement already satisfied: idna<4,>=2.5 in /usr/local/lib/python3.10/dist-packages (from requests->transformers) (3.4)\n",
      "Requirement already satisfied: urllib3<3,>=1.21.1 in /usr/local/lib/python3.10/dist-packages (from requests->transformers) (1.26.13)\n",
      "Requirement already satisfied: certifi>=2017.4.17 in /usr/local/lib/python3.10/dist-packages (from requests->transformers) (2022.12.7)\n",
      "Requirement already satisfied: sympy in /usr/local/lib/python3.10/dist-packages (from torch->bitsandbytes) (1.12)\n",
      "Requirement already satisfied: networkx in /usr/local/lib/python3.10/dist-packages (from torch->bitsandbytes) (3.0)\n",
      "Requirement already satisfied: jinja2 in /usr/local/lib/python3.10/dist-packages (from torch->bitsandbytes) (3.1.2)\n",
      "Requirement already satisfied: triton==2.0.0 in /usr/local/lib/python3.10/dist-packages (from torch->bitsandbytes) (2.0.0)\n",
      "Requirement already satisfied: cmake in /usr/local/lib/python3.10/dist-packages (from triton==2.0.0->torch->bitsandbytes) (3.25.0)\n",
      "Requirement already satisfied: lit in /usr/local/lib/python3.10/dist-packages (from triton==2.0.0->torch->bitsandbytes) (15.0.7)\n",
      "Collecting pytz>=2020.1 (from pandas->datasets)\n",
      "  Downloading pytz-2024.1-py2.py3-none-any.whl.metadata (22 kB)\n",
      "Collecting tzdata>=2022.7 (from pandas->datasets)\n",
      "  Downloading tzdata-2024.1-py2.py3-none-any.whl.metadata (1.4 kB)\n",
      "Requirement already satisfied: MarkupSafe>=2.0 in /usr/local/lib/python3.10/dist-packages (from jinja2->torch->bitsandbytes) (2.1.2)\n",
      "Requirement already satisfied: mpmath>=0.19 in /usr/local/lib/python3.10/dist-packages (from sympy->torch->bitsandbytes) (1.3.0)\n",
      "Downloading glom-23.5.0-py3-none-any.whl (102 kB)\n",
      "\u001b[2K   \u001b[90m━━━━━━━━━━━━━━━━━━━━━━━━━━━━━━━━━━━━━━━━\u001b[0m \u001b[32m102.7/102.7 kB\u001b[0m \u001b[31m14.3 MB/s\u001b[0m eta \u001b[36m0:00:00\u001b[0m\n",
      "\u001b[?25hDownloading face-20.1.1-py3-none-any.whl (51 kB)\n",
      "\u001b[2K   \u001b[90m━━━━━━━━━━━━━━━━━━━━━━━━━━━━━━━━━━━━━━━━\u001b[0m \u001b[32m51.1/51.1 kB\u001b[0m \u001b[31m8.5 MB/s\u001b[0m eta \u001b[36m0:00:00\u001b[0m\n",
      "\u001b[?25hDownloading transformers-4.44.0-py3-none-any.whl (9.5 MB)\n",
      "\u001b[2K   \u001b[90m━━━━━━━━━━━━━━━━━━━━━━━━━━━━━━━━━━━━━━━━\u001b[0m \u001b[32m9.5/9.5 MB\u001b[0m \u001b[31m111.3 MB/s\u001b[0m eta \u001b[36m0:00:00\u001b[0m00:01\u001b[0m00:01\u001b[0m\n",
      "\u001b[?25hDownloading datasets-2.21.0-py3-none-any.whl (527 kB)\n",
      "\u001b[2K   \u001b[90m━━━━━━━━━━━━━━━━━━━━━━━━━━━━━━━━━━━━━━━━\u001b[0m \u001b[32m527.3/527.3 kB\u001b[0m \u001b[31m67.2 MB/s\u001b[0m eta \u001b[36m0:00:00\u001b[0m\n",
      "\u001b[?25hDownloading bitsandbytes-0.43.3-py3-none-manylinux_2_24_x86_64.whl (137.5 MB)\n",
      "\u001b[2K   \u001b[90m━━━━━━━━━━━━━━━━━━━━━━━━━━━━━━━━━━━━━━━━\u001b[0m \u001b[32m137.5/137.5 MB\u001b[0m \u001b[31m31.4 MB/s\u001b[0m eta \u001b[36m0:00:00\u001b[0m00:01\u001b[0m00:01\u001b[0m\n",
      "\u001b[?25hDownloading accelerate-0.33.0-py3-none-any.whl (315 kB)\n",
      "\u001b[2K   \u001b[90m━━━━━━━━━━━━━━━━━━━━━━━━━━━━━━━━━━━━━━━━\u001b[0m \u001b[32m315.1/315.1 kB\u001b[0m \u001b[31m34.7 MB/s\u001b[0m eta \u001b[36m0:00:00\u001b[0m\n",
      "\u001b[?25hDownloading peft-0.12.0-py3-none-any.whl (296 kB)\n",
      "\u001b[2K   \u001b[90m━━━━━━━━━━━━━━━━━━━━━━━━━━━━━━━━━━━━━━━━\u001b[0m \u001b[32m296.4/296.4 kB\u001b[0m \u001b[31m33.7 MB/s\u001b[0m eta \u001b[36m0:00:00\u001b[0m\n",
      "\u001b[?25hDownloading hf_transfer-0.1.8-cp310-cp310-manylinux_2_17_x86_64.manylinux2014_x86_64.whl (3.6 MB)\n",
      "\u001b[2K   \u001b[90m━━━━━━━━━━━━━━━━━━━━━━━━━━━━━━━━━━━━━━━━\u001b[0m \u001b[32m3.6/3.6 MB\u001b[0m \u001b[31m59.9 MB/s\u001b[0m eta \u001b[36m0:00:00\u001b[0ma \u001b[36m0:00:01\u001b[0m\n",
      "\u001b[?25hDownloading matplotlib-3.9.2-cp310-cp310-manylinux_2_17_x86_64.manylinux2014_x86_64.whl (8.3 MB)\n",
      "\u001b[2K   \u001b[90m━━━━━━━━━━━━━━━━━━━━━━━━━━━━━━━━━━━━━━━━\u001b[0m \u001b[32m8.3/8.3 MB\u001b[0m \u001b[31m99.8 MB/s\u001b[0m eta \u001b[36m0:00:00\u001b[0m:00:01\u001b[0m00:01\u001b[0m\n",
      "\u001b[?25hDownloading boltons-24.0.0-py3-none-any.whl (191 kB)\n",
      "\u001b[2K   \u001b[90m━━━━━━━━━━━━━━━━━━━━━━━━━━━━━━━━━━━━━━━━\u001b[0m \u001b[32m191.7/191.7 kB\u001b[0m \u001b[31m35.9 MB/s\u001b[0m eta \u001b[36m0:00:00\u001b[0m\n",
      "\u001b[?25hDownloading contourpy-1.2.1-cp310-cp310-manylinux_2_17_x86_64.manylinux2014_x86_64.whl (305 kB)\n",
      "\u001b[2K   \u001b[90m━━━━━━━━━━━━━━━━━━━━━━━━━━━━━━━━━━━━━━━━\u001b[0m \u001b[32m305.2/305.2 kB\u001b[0m \u001b[31m51.2 MB/s\u001b[0m eta \u001b[36m0:00:00\u001b[0m\n",
      "\u001b[?25hDownloading cycler-0.12.1-py3-none-any.whl (8.3 kB)\n",
      "Downloading dill-0.3.8-py3-none-any.whl (116 kB)\n",
      "\u001b[2K   \u001b[90m━━━━━━━━━━━━━━━━━━━━━━━━━━━━━━━━━━━━━━━━\u001b[0m \u001b[32m116.3/116.3 kB\u001b[0m \u001b[31m18.1 MB/s\u001b[0m eta \u001b[36m0:00:00\u001b[0m\n",
      "\u001b[?25hDownloading fonttools-4.53.1-cp310-cp310-manylinux_2_17_x86_64.manylinux2014_x86_64.whl (4.6 MB)\n",
      "\u001b[2K   \u001b[90m━━━━━━━━━━━━━━━━━━━━━━━━━━━━━━━━━━━━━━━━\u001b[0m \u001b[32m4.6/4.6 MB\u001b[0m \u001b[31m115.3 MB/s\u001b[0m eta \u001b[36m0:00:00\u001b[0m00:01\u001b[0m\n",
      "\u001b[?25hDownloading fsspec-2024.6.1-py3-none-any.whl (177 kB)\n",
      "\u001b[2K   \u001b[90m━━━━━━━━━━━━━━━━━━━━━━━━━━━━━━━━━━━━━━━━\u001b[0m \u001b[32m177.6/177.6 kB\u001b[0m \u001b[31m30.3 MB/s\u001b[0m eta \u001b[36m0:00:00\u001b[0m\n",
      "\u001b[?25hDownloading aiohttp-3.10.3-cp310-cp310-manylinux_2_17_x86_64.manylinux2014_x86_64.whl (1.2 MB)\n",
      "\u001b[2K   \u001b[90m━━━━━━━━━━━━━━━━━━━━━━━━━━━━━━━━━━━━━━━━\u001b[0m \u001b[32m1.2/1.2 MB\u001b[0m \u001b[31m90.3 MB/s\u001b[0m eta \u001b[36m0:00:00\u001b[0m\n",
      "\u001b[?25hDownloading huggingface_hub-0.24.5-py3-none-any.whl (417 kB)\n",
      "\u001b[2K   \u001b[90m━━━━━━━━━━━━━━━━━━━━━━━━━━━━━━━━━━━━━━━━\u001b[0m \u001b[32m417.5/417.5 kB\u001b[0m \u001b[31m62.2 MB/s\u001b[0m eta \u001b[36m0:00:00\u001b[0m\n",
      "\u001b[?25hDownloading kiwisolver-1.4.5-cp310-cp310-manylinux_2_12_x86_64.manylinux2010_x86_64.whl (1.6 MB)\n",
      "\u001b[2K   \u001b[90m━━━━━━━━━━━━━━━━━━━━━━━━━━━━━━━━━━━━━━━━\u001b[0m \u001b[32m1.6/1.6 MB\u001b[0m \u001b[31m85.5 MB/s\u001b[0m eta \u001b[36m0:00:00\u001b[0m\n",
      "\u001b[?25hDownloading pyarrow-17.0.0-cp310-cp310-manylinux_2_28_x86_64.whl (39.9 MB)\n",
      "\u001b[2K   \u001b[90m━━━━━━━━━━━━━━━━━━━━━━━━━━━━━━━━━━━━━━━━\u001b[0m \u001b[32m39.9/39.9 MB\u001b[0m \u001b[31m26.1 MB/s\u001b[0m eta \u001b[36m0:00:00\u001b[0m00:01\u001b[0m:00:01\u001b[0m\n",
      "\u001b[?25hDownloading regex-2024.7.24-cp310-cp310-manylinux_2_17_x86_64.manylinux2014_x86_64.whl (776 kB)\n",
      "\u001b[2K   \u001b[90m━━━━━━━━━━━━━━━━━━━━━━━━━━━━━━━━━━━━━━━━\u001b[0m \u001b[32m776.5/776.5 kB\u001b[0m \u001b[31m78.4 MB/s\u001b[0m eta \u001b[36m0:00:00\u001b[0m\n",
      "\u001b[?25hDownloading requests-2.32.3-py3-none-any.whl (64 kB)\n",
      "\u001b[2K   \u001b[90m━━━━━━━━━━━━━━━━━━━━━━━━━━━━━━━━━━━━━━━━\u001b[0m \u001b[32m64.9/64.9 kB\u001b[0m \u001b[31m10.2 MB/s\u001b[0m eta \u001b[36m0:00:00\u001b[0m\n",
      "\u001b[?25hDownloading safetensors-0.4.4-cp310-cp310-manylinux_2_17_x86_64.manylinux2014_x86_64.whl (435 kB)\n",
      "\u001b[2K   \u001b[90m━━━━━━━━━━━━━━━━━━━━━━━━━━━━━━━━━━━━━━━━\u001b[0m \u001b[32m435.5/435.5 kB\u001b[0m \u001b[31m60.8 MB/s\u001b[0m eta \u001b[36m0:00:00\u001b[0m\n",
      "\u001b[?25hDownloading tokenizers-0.19.1-cp310-cp310-manylinux_2_17_x86_64.manylinux2014_x86_64.whl (3.6 MB)\n",
      "\u001b[2K   \u001b[90m━━━━━━━━━━━━━━━━━━━━━━━━━━━━━━━━━━━━━━━━\u001b[0m \u001b[32m3.6/3.6 MB\u001b[0m \u001b[31m129.3 MB/s\u001b[0m eta \u001b[36m0:00:00\u001b[0m\n",
      "\u001b[?25hDownloading tqdm-4.66.5-py3-none-any.whl (78 kB)\n",
      "\u001b[2K   \u001b[90m━━━━━━━━━━━━━━━━━━━━━━━━━━━━━━━━━━━━━━━━\u001b[0m \u001b[32m78.4/78.4 kB\u001b[0m \u001b[31m14.4 MB/s\u001b[0m eta \u001b[36m0:00:00\u001b[0m\n",
      "\u001b[?25hDownloading multiprocess-0.70.16-py310-none-any.whl (134 kB)\n",
      "\u001b[2K   \u001b[90m━━━━━━━━━━━━━━━━━━━━━━━━━━━━━━━━━━━━━━━━\u001b[0m \u001b[32m134.8/134.8 kB\u001b[0m \u001b[31m26.9 MB/s\u001b[0m eta \u001b[36m0:00:00\u001b[0m\n",
      "\u001b[?25hDownloading pandas-2.2.2-cp310-cp310-manylinux_2_17_x86_64.manylinux2014_x86_64.whl (13.0 MB)\n",
      "\u001b[2K   \u001b[90m━━━━━━━━━━━━━━━━━━━━━━━━━━━━━━━━━━━━━━━━\u001b[0m \u001b[32m13.0/13.0 MB\u001b[0m \u001b[31m117.4 MB/s\u001b[0m eta \u001b[36m0:00:00\u001b[0ma \u001b[36m0:00:01\u001b[0m\n",
      "\u001b[?25hDownloading xxhash-3.4.1-cp310-cp310-manylinux_2_17_x86_64.manylinux2014_x86_64.whl (194 kB)\n",
      "\u001b[2K   \u001b[90m━━━━━━━━━━━━━━━━━━━━━━━━━━━━━━━━━━━━━━━━\u001b[0m \u001b[32m194.1/194.1 kB\u001b[0m \u001b[31m35.9 MB/s\u001b[0m eta \u001b[36m0:00:00\u001b[0m\n",
      "\u001b[?25hDownloading aiohappyeyeballs-2.3.6-py3-none-any.whl (12 kB)\n",
      "Downloading aiosignal-1.3.1-py3-none-any.whl (7.6 kB)\n",
      "Downloading async_timeout-4.0.3-py3-none-any.whl (5.7 kB)\n",
      "Downloading frozenlist-1.4.1-cp310-cp310-manylinux_2_5_x86_64.manylinux1_x86_64.manylinux_2_17_x86_64.manylinux2014_x86_64.whl (239 kB)\n",
      "\u001b[2K   \u001b[90m━━━━━━━━━━━━━━━━━━━━━━━━━━━━━━━━━━━━━━━━\u001b[0m \u001b[32m239.5/239.5 kB\u001b[0m \u001b[31m43.4 MB/s\u001b[0m eta \u001b[36m0:00:00\u001b[0m\n",
      "\u001b[?25hDownloading multidict-6.0.5-cp310-cp310-manylinux_2_17_x86_64.manylinux2014_x86_64.whl (124 kB)\n",
      "\u001b[2K   \u001b[90m━━━━━━━━━━━━━━━━━━━━━━━━━━━━━━━━━━━━━━━━\u001b[0m \u001b[32m124.3/124.3 kB\u001b[0m \u001b[31m13.6 MB/s\u001b[0m eta \u001b[36m0:00:00\u001b[0m\n",
      "\u001b[?25hDownloading pytz-2024.1-py2.py3-none-any.whl (505 kB)\n",
      "\u001b[2K   \u001b[90m━━━━━━━━━━━━━━━━━━━━━━━━━━━━━━━━━━━━━━━━\u001b[0m \u001b[32m505.5/505.5 kB\u001b[0m \u001b[31m71.3 MB/s\u001b[0m eta \u001b[36m0:00:00\u001b[0m\n",
      "\u001b[?25hDownloading tzdata-2024.1-py2.py3-none-any.whl (345 kB)\n",
      "\u001b[2K   \u001b[90m━━━━━━━━━━━━━━━━━━━━━━━━━━━━━━━━━━━━━━━━\u001b[0m \u001b[32m345.4/345.4 kB\u001b[0m \u001b[31m51.8 MB/s\u001b[0m eta \u001b[36m0:00:00\u001b[0m\n",
      "\u001b[?25hDownloading yarl-1.9.4-cp310-cp310-manylinux_2_17_x86_64.manylinux2014_x86_64.whl (301 kB)\n",
      "\u001b[2K   \u001b[90m━━━━━━━━━━━━━━━━━━━━━━━━━━━━━━━━━━━━━━━━\u001b[0m \u001b[32m301.6/301.6 kB\u001b[0m \u001b[31m46.2 MB/s\u001b[0m eta \u001b[36m0:00:00\u001b[0m\n",
      "\u001b[?25hInstalling collected packages: pytz, xxhash, tzdata, tqdm, safetensors, requests, regex, pyarrow, multidict, kiwisolver, hf_transfer, fsspec, frozenlist, fonttools, dill, cycler, contourpy, boltons, async-timeout, aiohappyeyeballs, yarl, pandas, multiprocess, matplotlib, huggingface-hub, face, aiosignal, tokenizers, glom, aiohttp, transformers, datasets, accelerate, peft, bitsandbytes\n",
      "  Attempting uninstall: requests\n",
      "    Found existing installation: requests 2.31.0\n",
      "    Uninstalling requests-2.31.0:\n",
      "      Successfully uninstalled requests-2.31.0\n",
      "Successfully installed accelerate-0.33.0 aiohappyeyeballs-2.3.6 aiohttp-3.10.3 aiosignal-1.3.1 async-timeout-4.0.3 bitsandbytes-0.43.3 boltons-24.0.0 contourpy-1.2.1 cycler-0.12.1 datasets-2.21.0 dill-0.3.8 face-20.1.1 fonttools-4.53.1 frozenlist-1.4.1 fsspec-2024.6.1 glom-23.5.0 hf_transfer-0.1.8 huggingface-hub-0.24.5 kiwisolver-1.4.5 matplotlib-3.9.2 multidict-6.0.5 multiprocess-0.70.16 pandas-2.2.2 peft-0.12.0 pyarrow-17.0.0 pytz-2024.1 regex-2024.7.24 requests-2.32.3 safetensors-0.4.4 tokenizers-0.19.1 tqdm-4.66.5 transformers-4.44.0 tzdata-2024.1 xxhash-3.4.1 yarl-1.9.4\n",
      "\u001b[33mWARNING: Running pip as the 'root' user can result in broken permissions and conflicting behaviour with the system package manager. It is recommended to use a virtual environment instead: https://pip.pypa.io/warnings/venv\u001b[0m\u001b[33m\n",
      "\u001b[0m\n",
      "\u001b[1m[\u001b[0m\u001b[34;49mnotice\u001b[0m\u001b[1;39;49m]\u001b[0m\u001b[39;49m A new release of pip is available: \u001b[0m\u001b[31;49m23.3.1\u001b[0m\u001b[39;49m -> \u001b[0m\u001b[32;49m24.2\u001b[0m\n",
      "\u001b[1m[\u001b[0m\u001b[34;49mnotice\u001b[0m\u001b[1;39;49m]\u001b[0m\u001b[39;49m To update, run: \u001b[0m\u001b[32;49mpython -m pip install --upgrade pip\u001b[0m\n",
      "Note: you may need to restart the kernel to use updated packages.\n"
     ]
    }
   ],
   "source": [
    "%pip install glom transformers datasets bitsandbytes accelerate peft hf_transfer matplotlib"
   ]
  },
  {
   "cell_type": "code",
   "execution_count": 4,
   "id": "c73d332c-1c04-4f5f-ad57-94420a065481",
   "metadata": {},
   "outputs": [
    {
     "name": "stdout",
     "output_type": "stream",
     "text": [
      "Collecting flash-attn\n",
      "  Downloading flash_attn-2.6.3.tar.gz (2.6 MB)\n",
      "\u001b[2K     \u001b[90m━━━━━━━━━━━━━━━━━━━━━━━━━━━━━━━━━━━━━━━━\u001b[0m \u001b[32m2.6/2.6 MB\u001b[0m \u001b[31m22.8 MB/s\u001b[0m eta \u001b[36m0:00:00\u001b[0m00:01\u001b[0m00:01\u001b[0m\n",
      "\u001b[?25h  Preparing metadata (setup.py) ... \u001b[?25ldone\n",
      "\u001b[?25hRequirement already satisfied: torch in /usr/local/lib/python3.10/dist-packages (from flash-attn) (2.0.1+cu118)\n",
      "Collecting einops (from flash-attn)\n",
      "  Downloading einops-0.8.0-py3-none-any.whl.metadata (12 kB)\n",
      "Requirement already satisfied: filelock in /usr/local/lib/python3.10/dist-packages (from torch->flash-attn) (3.9.0)\n",
      "Requirement already satisfied: typing-extensions in /usr/local/lib/python3.10/dist-packages (from torch->flash-attn) (4.4.0)\n",
      "Requirement already satisfied: sympy in /usr/local/lib/python3.10/dist-packages (from torch->flash-attn) (1.12)\n",
      "Requirement already satisfied: networkx in /usr/local/lib/python3.10/dist-packages (from torch->flash-attn) (3.0)\n",
      "Requirement already satisfied: jinja2 in /usr/local/lib/python3.10/dist-packages (from torch->flash-attn) (3.1.2)\n",
      "Requirement already satisfied: triton==2.0.0 in /usr/local/lib/python3.10/dist-packages (from torch->flash-attn) (2.0.0)\n",
      "Requirement already satisfied: cmake in /usr/local/lib/python3.10/dist-packages (from triton==2.0.0->torch->flash-attn) (3.25.0)\n",
      "Requirement already satisfied: lit in /usr/local/lib/python3.10/dist-packages (from triton==2.0.0->torch->flash-attn) (15.0.7)\n",
      "Requirement already satisfied: MarkupSafe>=2.0 in /usr/local/lib/python3.10/dist-packages (from jinja2->torch->flash-attn) (2.1.2)\n",
      "Requirement already satisfied: mpmath>=0.19 in /usr/local/lib/python3.10/dist-packages (from sympy->torch->flash-attn) (1.3.0)\n",
      "Downloading einops-0.8.0-py3-none-any.whl (43 kB)\n",
      "\u001b[2K   \u001b[90m━━━━━━━━━━━━━━━━━━━━━━━━━━━━━━━━━━━━━━━━\u001b[0m \u001b[32m43.2/43.2 kB\u001b[0m \u001b[31m4.9 MB/s\u001b[0m eta \u001b[36m0:00:00\u001b[0m\n",
      "\u001b[?25hBuilding wheels for collected packages: flash-attn\n",
      "  Building wheel for flash-attn (setup.py) ... \u001b[?25ldone\n",
      "\u001b[?25h  Created wheel for flash-attn: filename=flash_attn-2.6.3-cp310-cp310-linux_x86_64.whl size=188930485 sha256=f242b686e89e4bd88474ac4ceb7a5b19d738b4e63e2132f50edd7b6f397f8654\n",
      "  Stored in directory: /root/.cache/pip/wheels/7e/e3/c3/89c7a2f3c4adc07cd1c675f8bb7b9ad4d18f64a72bccdfe826\n",
      "Successfully built flash-attn\n",
      "Installing collected packages: einops, flash-attn\n",
      "Successfully installed einops-0.8.0 flash-attn-2.6.3\n",
      "\u001b[33mWARNING: Running pip as the 'root' user can result in broken permissions and conflicting behaviour with the system package manager. It is recommended to use a virtual environment instead: https://pip.pypa.io/warnings/venv\u001b[0m\u001b[33m\n",
      "\u001b[0m\n",
      "\u001b[1m[\u001b[0m\u001b[34;49mnotice\u001b[0m\u001b[1;39;49m]\u001b[0m\u001b[39;49m A new release of pip is available: \u001b[0m\u001b[31;49m23.3.1\u001b[0m\u001b[39;49m -> \u001b[0m\u001b[32;49m24.2\u001b[0m\n",
      "\u001b[1m[\u001b[0m\u001b[34;49mnotice\u001b[0m\u001b[1;39;49m]\u001b[0m\u001b[39;49m To update, run: \u001b[0m\u001b[32;49mpython -m pip install --upgrade pip\u001b[0m\n",
      "Note: you may need to restart the kernel to use updated packages.\n"
     ]
    }
   ],
   "source": [
    "%pip install flash-attn --no-build-isolation"
   ]
  },
  {
   "cell_type": "code",
   "execution_count": 1,
   "id": "98e60b4d-2be8-4b35-ab98-24810be44026",
   "metadata": {},
   "outputs": [],
   "source": [
    "import os\n",
    "\n",
    "os.environ['HF_HOME'] = '/workspace/.hf'\n",
    "os.environ['HF_HUB_ENABLE_HF_TRANSFER'] = '1'"
   ]
  },
  {
   "cell_type": "code",
   "execution_count": null,
   "id": "7a2922b4-f242-4e9f-9a54-7aa2aa8d083f",
   "metadata": {},
   "outputs": [],
   "source": [
    "import torch\n",
    "import torch.nn.functional as F\n",
    "from transformers import AutoModelForCausalLM, AutoTokenizer\n",
    "\n",
    "class MergedModulesMixin:\n",
    "    def __init__(self, *args, **kwargs):\n",
    "        super().__init__(*args, **kwargs)\n",
    "        self._merged_modules = []\n",
    "\n",
    "    def register_merged_module(self, module):\n",
    "        self._merged_modules.append(module)\n",
    "\n",
    "    def merged_modules(self):\n",
    "        return self._merged_modules\n",
    "\n",
    "    def set_forward_type(self, forward_type):\n",
    "        for module in self._merged_modules:\n",
    "            module.set_forward_type(forward_type)\n",
    "\n",
    "\n",
    "class MergedModel(MergedModulesMixin, AutoModelForCausalLM):\n",
    "    pass"
   ]
  },
  {
   "cell_type": "code",
   "execution_count": 2,
   "id": "16bb19b7-e579-40c6-8b8b-90397a8ead13",
   "metadata": {
    "scrolled": true
   },
   "outputs": [
    {
     "data": {
      "application/vnd.jupyter.widget-view+json": {
       "model_id": "7a6723bd2a5244888b8fd91bc78f49d2",
       "version_major": 2,
       "version_minor": 0
      },
      "text/plain": [
       "Loading checkpoint shards:   0%|          | 0/2 [00:00<?, ?it/s]"
      ]
     },
     "metadata": {},
     "output_type": "display_data"
    },
    {
     "data": {
      "application/vnd.jupyter.widget-view+json": {
       "model_id": "c99cc4dbb5ea4e83b7d2899b5f18bed5",
       "version_major": 2,
       "version_minor": 0
      },
      "text/plain": [
       "Loading checkpoint shards:   0%|          | 0/4 [00:00<?, ?it/s]"
      ]
     },
     "metadata": {},
     "output_type": "display_data"
    },
    {
     "data": {
      "application/vnd.jupyter.widget-view+json": {
       "model_id": "4051396650bc4f94a913211dc20a14fe",
       "version_major": 2,
       "version_minor": 0
      },
      "text/plain": [
       "Loading checkpoint shards:   0%|          | 0/2 [00:00<?, ?it/s]"
      ]
     },
     "metadata": {},
     "output_type": "display_data"
    },
    {
     "name": "stderr",
     "output_type": "stream",
     "text": [
      "/usr/local/lib/python3.10/dist-packages/torch/_utils.py:776: UserWarning: TypedStorage is deprecated. It will be removed in the future and UntypedStorage will be the only storage class. This should only matter to you if you are using storages directly.  To access UntypedStorage directly, use tensor.untyped_storage() instead of tensor.storage()\n",
      "  return self.fget.__get__(instance, owner)()\n"
     ]
    },
    {
     "data": {
      "application/vnd.jupyter.widget-view+json": {
       "model_id": "12ecb6d5fce243caacf80756e7cf54ea",
       "version_major": 2,
       "version_minor": 0
      },
      "text/plain": [
       "Loading checkpoint shards:   0%|          | 0/3 [00:00<?, ?it/s]"
      ]
     },
     "metadata": {},
     "output_type": "display_data"
    }
   ],
   "source": [
    "MODEL_ID = \"mistralai/Mistral-7B-v0.1\"\n",
    "MODEL_ID_A = \"augmxnt/shisa-gamma-7b-v1\"\n",
    "MODEL_ID_B = \"WizardLM/WizardMath-7B-V1.1\"\n",
    "MODEL_ID_C = \"GAIR/Abel-7B-002\"\n",
    "\n",
    "base_model = MergedModel.from_pretrained(MODEL_ID, torch_dtype=torch.bfloat16, device_map=\"auto\")\n",
    "model_A = AutoModelForCausalLM.from_pretrained(MODEL_ID_A, torch_dtype=torch.bfloat16, device_map=\"auto\")\n",
    "model_B = AutoModelForCausalLM.from_pretrained(MODEL_ID_B, torch_dtype=torch.bfloat16, device_map=\"auto\")\n",
    "model_C = AutoModelForCausalLM.from_pretrained(MODEL_ID_C, torch_dtype=torch.bfloat16, device_map=\"auto\")\n",
    "\n",
    "tokenizer = AutoTokenizer.from_pretrained(MODEL_ID, use_fast=True)"
   ]
  },
  {
   "cell_type": "code",
   "execution_count": 3,
   "id": "22222124-85fe-49f3-93ef-bd6fcb507af3",
   "metadata": {},
   "outputs": [],
   "source": [
    "import os\n",
    "import torch\n",
    "import torch\n",
    "import bitsandbytes as bnb\n",
    "from transformers import AutoModelForCausalLM, AutoConfig, AutoTokenizer\n",
    "from peft.tuners.lora import QuantLinear\n",
    "\n",
    "def find_embedding(model):\n",
    "    cls = (torch.nn.Embedding)\n",
    "\n",
    "    names = []\n",
    "    for name, module in model.named_modules():\n",
    "        if (\n",
    "            isinstance(module, cls)\n",
    "        ):\n",
    "            names.append(name)\n",
    "\n",
    "\n",
    "    return names\n",
    "\n",
    "def find_all_linear_names(model):\n",
    "    cls = (bnb.nn.Linear4bit, bnb.nn.Linear8bitLt, torch.nn.Linear, QuantLinear)\n",
    "\n",
    "    names = []\n",
    "    for name, module in model.named_modules():\n",
    "        if (\n",
    "            isinstance(module, cls)\n",
    "            or \"Linear\" in module.__class__.__name__\n",
    "            and module.__class__.__name__ not in (\"LlamaLinearScalingRotaryEmbedding\",)\n",
    "        ):\n",
    "            names.append(name)\n",
    "\n",
    "\n",
    "    return names"
   ]
  },
  {
   "cell_type": "code",
   "execution_count": 4,
   "id": "35335d6c-fd57-470f-85ff-56cb9a25c0a8",
   "metadata": {},
   "outputs": [],
   "source": [
    "modules = find_all_linear_names(base_model) + find_embedding(base_model)"
   ]
  },
  {
   "cell_type": "code",
   "execution_count": null,
   "id": "7b138963-ba2f-4143-8f7e-ecf040eeff29",
   "metadata": {},
   "outputs": [],
   "source": [
    "import torch\n",
    "import torch.nn as nn\n",
    "import torch.nn.functional as F\n",
    "\n",
    "class ZipLoRATripleBase(nn.Module):\n",
    "    def __init__(self):\n",
    "        super().__init__()\n",
    "        self.forward_type = \"merge\"\n",
    "\n",
    "    def set_forward_type(self, type: str = \"merge\"):\n",
    "        assert type in [\"merge\", \"weight_1\", \"weight_2\", \"weight_3\"]\n",
    "        self.forward_type = type\n",
    "\n",
    "    def compute_mergers_similarity(self):\n",
    "        sim_12 = F.cosine_similarity(self.merger_1, self.merger_2, dim=0)\n",
    "        sim_13 = F.cosine_similarity(self.merger_1, self.merger_3, dim=0)\n",
    "        sim_23 = F.cosine_similarity(self.merger_2, self.merger_3, dim=0)\n",
    "    \n",
    "        return (sim_12 + sim_13 + sim_23) / 3\n",
    "\n",
    "    def unfreeze(self):\n",
    "        self.merger_1.requires_grad = True\n",
    "        self.merger_2.requires_grad = True\n",
    "        self.merger_3.requires_grad = True\n",
    "\n",
    "    def get_ziplora_weight(self):\n",
    "        raise NotImplementedError\n",
    "\n",
    "    def forward(self, *args, **kwargs):\n",
    "        raise NotImplementedError\n"
   ]
  },
  {
   "cell_type": "code",
   "execution_count": 5,
   "id": "6b9a4562-7b83-456e-b9a7-81e736d4a009",
   "metadata": {},
   "outputs": [],
   "source": [
    "class ZipLoRATripleEmbedding(ZipLoRATripleBase):\n",
    "    def __init__(self, embedding_a, embedding_b, embedding_c, init_merger_value=0.33, init_merger_value_2=0.33, init_merger_value_3=0.33, device=None, dtype=None):\n",
    "        super().__init__()\n",
    "        \n",
    "        assert (embedding_a.num_embeddings == embedding_b.num_embeddings == embedding_c.num_embeddings), \"Number of embeddings must match\"\n",
    "        assert (embedding_a.embedding_dim == embedding_b.embedding_dim == embedding_c.embedding_dim), \"Embedding dimensions must match\"\n",
    "\n",
    "        self.num_embeddings = embedding_a.num_embeddings\n",
    "        self.embedding_dim = embedding_a.embedding_dim\n",
    "        self.padding_idx = embedding_a.padding_idx\n",
    "        self.max_norm = embedding_a.max_norm\n",
    "        self.norm_type = embedding_a.norm_type\n",
    "        self.scale_grad_by_freq = embedding_a.scale_grad_by_freq\n",
    "        self.sparse = embedding_a.sparse\n",
    "\n",
    "        self.register_buffer('weight_1', embedding_a.weight.data)\n",
    "        self.register_buffer('weight_2', embedding_b.weight.data)\n",
    "        self.register_buffer('weight_3', embedding_c.weight.data)\n",
    "\n",
    "        self.merger_1 = Parameter(\n",
    "            torch.ones((self.num_embeddings,), device=embedding_a.weight.data.device, dtype=dtype) * init_merger_value\n",
    "        )\n",
    "        self.merger_2 = Parameter(\n",
    "            torch.ones((self.num_embeddings,), device=embedding_b.weight.data.device, dtype=dtype) * init_merger_value_2\n",
    "        )\n",
    "        self.merger_3 = Parameter(\n",
    "            torch.ones((self.num_embeddings,), device=embedding_c.weight.data.device, dtype=dtype) * init_merger_value_3\n",
    "        )\n",
    "        \n",
    "        self.forward_type = \"merge\"\n",
    "        \n",
    "    def get_ziplora_weight(self):\n",
    "        return self.merger_1.unsqueeze(1) * self.weight_1 + self.merger_2.unsqueeze(1) * self.weight_2 + self.merger_3.unsqueeze(1) * self.weight_3\n",
    "\n",
    "    def forward(self, input: torch.Tensor) -> torch.Tensor:\n",
    "        if self.forward_type == \"merge\":\n",
    "            weight = self.get_ziplora_weight()\n",
    "        elif self.forward_type == \"weight_1\":\n",
    "            weight = self.weight_1\n",
    "        elif self.forward_type == \"weight_2\":\n",
    "            weight = self.weight_2\n",
    "        elif self.forward_type == \"weight_3\":\n",
    "            weight = self.weight_3\n",
    "        else:\n",
    "            raise ValueError(self.forward_type)\n",
    "            \n",
    "        return F.embedding(\n",
    "            input,\n",
    "            weight,\n",
    "            self.padding_idx,\n",
    "            self.max_norm,\n",
    "            self.norm_type,\n",
    "            self.scale_grad_by_freq,\n",
    "            self.sparse\n",
    "        )\n"
   ]
  },
  {
   "cell_type": "code",
   "execution_count": 6,
   "id": "338441b8-1348-4cdd-b929-83422e16db19",
   "metadata": {},
   "outputs": [],
   "source": [
    "class ZipLoRATripleLinearLayer(ZipLoRATripleBase):\n",
    "    def __init__(self, linear_a, linear_b, linear_c, init_merger_value=0.33, init_merger_value_2=0.33, init_merger_value_3=0.33, device=None, dtype=None):\n",
    "        super().__init__()\n",
    "        \n",
    "        assert linear_a.in_features == linear_b.in_features == linear_c.in_features, \"Input features must match\"\n",
    "        assert linear_a.out_features == linear_b.out_features == linear_c.out_features, \"Output features must match\"\n",
    "\n",
    "        self.in_features = linear_a.in_features\n",
    "        self.out_features = linear_a.out_features\n",
    "\n",
    "        self.register_buffer('weight_1', linear_a.weight.data.clone())\n",
    "        self.register_buffer('weight_2', linear_b.weight.data.clone())\n",
    "        self.register_buffer('weight_3', linear_c.weight.data.clone())\n",
    "\n",
    "        if linear_a.bias is not None and linear_b.bias is not None and linear_c.bias is not None:\n",
    "            self.register_buffer('bias1', linear_a.bias.data.clone())\n",
    "            self.register_buffer('bias2', linear_b.bias.data.clone())\n",
    "            self.register_buffer('bias3', linear_c.bias.data.clone())\n",
    "            self.bias_merger1 = nn.Parameter(torch.ones(1, device=linear_a.bias.data.device, dtype=dtype) * init_merger_value)\n",
    "            self.bias_merger2 = nn.Parameter(torch.ones(1, device=linear_b.bias.data.device, dtype=dtype) * init_merger_value_2)\n",
    "            self.bias_merger3 = nn.Parameter(torch.ones(1, device=linear_c.bias.data.device, dtype=dtype) * init_merger_value_3)\n",
    "        else:\n",
    "            self.register_buffer('bias1', None)\n",
    "            self.register_buffer('bias2', None)\n",
    "            self.register_buffer('bias3', None)\n",
    "            self.register_parameter('bias_merger1', None)\n",
    "            self.register_parameter('bias_merger2', None)\n",
    "            self.register_parameter('bias_merger3', None)\n",
    "\n",
    "        # Merger parameters\n",
    "        self.merger_1 = nn.Parameter(\n",
    "            torch.ones((self.in_features,), device=linear_a.weight.data.device, dtype=dtype) * init_merger_value\n",
    "        )\n",
    "        self.merger_2 = nn.Parameter(\n",
    "            torch.ones((self.in_features,), device=linear_b.weight.data.device, dtype=dtype) * init_merger_value_2\n",
    "        )\n",
    "        self.merger_3 = nn.Parameter(\n",
    "            torch.ones((self.in_features,), device=linear_c.weight.data.device, dtype=dtype) * init_merger_value_3\n",
    "        )\n",
    "        \n",
    "        self.forward_type = \"merge\"\n",
    "        \n",
    "    def get_ziplora_weight(self):\n",
    "        return self.merger_1 * self.weight_1 + self.merger_2 * self.weight_2 + self.merger_3 * self.weight_3\n",
    "    \n",
    "    def get_ziplora_bias(self):\n",
    "        if self.bias1 is not None:\n",
    "            return self.bias_merger1 * self.bias1 + self.bias_merger2 * self.bias2 + self.bias_merger3 * self.bias3\n",
    "        return None\n",
    "\n",
    "    def forward(self, hidden_states: torch.Tensor) -> torch.Tensor:\n",
    "        orig_dtype = hidden_states.dtype\n",
    "        dtype = self.weight_1.dtype\n",
    "        if self.forward_type == \"merge\":\n",
    "            weight = self.get_ziplora_weight()\n",
    "            bias = self.get_ziplora_bias()\n",
    "        elif self.forward_type == \"weight_1\":\n",
    "            weight = self.weight_1\n",
    "            bias = self.bias1\n",
    "        elif self.forward_type == \"weight_2\":\n",
    "            weight = self.weight_2\n",
    "            bias = self.bias2\n",
    "        elif self.forward_type == \"weight_3\":\n",
    "            weight = self.weight_3\n",
    "            bias = self.bias3\n",
    "        else:\n",
    "            raise ValueError(self.forward_type)\n",
    "        \n",
    "        hidden_states = F.linear(hidden_states.to(dtype), weight=weight, bias=bias)\n",
    "        return hidden_states.to(orig_dtype)\n"
   ]
  },
  {
   "cell_type": "code",
   "execution_count": null,
   "id": "555c6b8d-75c8-4693-8a0c-7fde16b4e22e",
   "metadata": {},
   "outputs": [],
   "source": [
    "import torch\n",
    "import torch.nn as nn\n",
    "\n",
    "\n",
    "# model_C (GAIR/Abel-7B-002) has a bigger vocab, we truncate the embedding layers\n",
    "\n",
    "truncated_lm_head = nn.Linear(in_features=4096, out_features=32000, bias=False)\n",
    "truncated_embed = nn.Embedding(num_embeddings=32000, embedding_dim=4096)\n",
    "\n",
    "with torch.no_grad():\n",
    "    truncated_lm_head.weight.data = model_C.lm_head.weight.data[:32000, :]\n",
    "    truncated_embed.weight.data = model_C.model.embed_tokens.weight.data[:32000, :]\n",
    "\n",
    "assign_embed = Assign('model.embed_tokens', truncated_embed)\n",
    "assign_lm_head = Assign('lm_head', truncated_lm_head)\n",
    "glom(model_C, assign_embed)\n",
    "glom(model_C, assign_lm_head)"
   ]
  },
  {
   "cell_type": "code",
   "execution_count": 10,
   "id": "2efa6820-040c-49c1-924e-e98146cea0d2",
   "metadata": {},
   "outputs": [
    {
     "name": "stderr",
     "output_type": "stream",
     "text": [
      "100%|██████████| 226/226 [00:00<00:00, 641.32it/s]\n"
     ]
    }
   ],
   "source": [
    "from tqdm import tqdm\n",
    "from glom import glom, Assign\n",
    "\n",
    "for m in tqdm(modules):\n",
    "    module_a = glom(model_A, m)\n",
    "    module_b = glom(model_B, m)\n",
    "    module_c = glom(model_C, m)\n",
    "\n",
    "    zipped = None\n",
    "\n",
    "    if isinstance(module_a, torch.nn.Embedding):    \n",
    "        zipped = ZipLoRATripleEmbedding(\n",
    "            embedding_a=module_a,\n",
    "            embedding_b=module_b,\n",
    "            embedding_c=module_c,\n",
    "            device=base_model.device,\n",
    "            dtype=module_a.weight.dtype\n",
    "        )\n",
    "    else:\n",
    "        zipped = ZipLoRATripleLinearLayer(\n",
    "            linear_a=module_a,\n",
    "            linear_b=module_b,\n",
    "            linear_c=module_c,\n",
    "            device=base_model.device,\n",
    "            dtype=module_a.weight.dtype\n",
    "        )\n",
    "\n",
    "    assign = Assign(m, zipped)\n",
    "    glom(base_model, assign)\n",
    "    base_model.register_merged_module(zipped)"
   ]
  },
  {
   "cell_type": "code",
   "execution_count": 13,
   "id": "3ea86570-bffd-43ba-a310-fe99674714a1",
   "metadata": {},
   "outputs": [
    {
     "name": "stderr",
     "output_type": "stream",
     "text": [
      "Setting `pad_token_id` to `eos_token_id`:2 for open-end generation.\n"
     ]
    },
    {
     "name": "stdout",
     "output_type": "stream",
     "text": [
      "1. Abraham Lincoln is considered by many to be the most famous president in U.S. history. He led the country through the Civil War and issued the Emancipation Proclamation, which ended slavery in the Confederate states. Lincoln is also known for delivering the Gettysburg Address, one of\n"
     ]
    }
   ],
   "source": [
    "from transformers import pipeline\n",
    "\n",
    "generator = pipeline(model=base_model, task='text-generation', tokenizer=tokenizer)\n",
    "\n",
    "prompt = \"\"\"Below is an instruction that describes a task. Write a response that appropriately completes the request.\n",
    "\n",
    "### Instruction:\n",
    "Who is the most famous president?\n",
    "\n",
    "### Response:\n",
    "\"\"\"\n",
    "\n",
    "print(generator(prompt, do_sample=True, max_new_tokens=64)[0]['generated_text'][len(prompt):])"
   ]
  },
  {
   "cell_type": "code",
   "execution_count": 11,
   "id": "984cad48-0940-4c37-96e2-a7d4dae270d9",
   "metadata": {},
   "outputs": [],
   "source": [
    "import gc\n",
    "model_A.cpu()\n",
    "model_B.cpu()\n",
    "model_C.cpu()\n",
    "\n",
    "del model_A, model_B, model_C\n",
    "gc.collect()\n",
    "torch.cuda.empty_cache()"
   ]
  },
  {
   "cell_type": "code",
   "execution_count": 12,
   "id": "7f59fd4d-f5dd-46dc-9c52-2844aa475ebe",
   "metadata": {},
   "outputs": [],
   "source": [
    "tokenizer.chat_template = \"{%- set ns = namespace(found=false) -%}\\n{%- for message in messages -%}\\n    {%- if message['role'] == 'system' -%}\\n        {%- set ns.found = true -%}\\n    {%- endif -%}\\n{%- endfor -%}\\n{%- if not ns.found -%}\\n    {{- '' + 'Below is an instruction that describes a task. Write a response that appropriately completes the request.' + '\\\\n\\\\n' -}}\\n{%- endif %}\\n{%- for message in messages %}\\n    {%- if message['role'] == 'system' -%}\\n        {{- '' + message['content'] + '\\\\n\\\\n' -}}\\n    {%- else -%}\\n        {%- if message['role'] == 'user' -%}\\n            {{-'### Instruction:\\\\n' + message['content'] + '\\\\n\\\\n'-}}\\n        {%- else -%}\\n            {{-'### Response:\\\\n' + message['content'] + '\\\\n\\\\n' -}}\\n        {%- endif -%}\\n    {%- endif -%}\\n{%- endfor -%}\\n{%- if add_generation_prompt -%}\\n    {{-'### Response:\\\\n'-}}\\n{%- endif -%}\""
   ]
  },
  {
   "cell_type": "code",
   "execution_count": 13,
   "id": "5b87fdb8-b840-4b7c-ba75-ac36909e7aab",
   "metadata": {},
   "outputs": [
    {
     "data": {
      "application/vnd.jupyter.widget-view+json": {
       "model_id": "eaa24bde12034032a2c8db8e075e2822",
       "version_major": 2,
       "version_minor": 0
      },
      "text/plain": [
       "Downloading readme:   0%|          | 0.00/2.98k [00:00<?, ?B/s]"
      ]
     },
     "metadata": {},
     "output_type": "display_data"
    },
    {
     "data": {
      "application/vnd.jupyter.widget-view+json": {
       "model_id": "d3bc96919a184693abfb5d82f5d43b1e",
       "version_major": 2,
       "version_minor": 0
      },
      "text/plain": [
       "Downloading data:   0%|          | 0.00/1.15M [00:00<?, ?B/s]"
      ]
     },
     "metadata": {},
     "output_type": "display_data"
    },
    {
     "data": {
      "application/vnd.jupyter.widget-view+json": {
       "model_id": "c37054a0c26a47868a0d8e0a910aafa7",
       "version_major": 2,
       "version_minor": 0
      },
      "text/plain": [
       "Generating train split:   0%|          | 0/1729 [00:00<?, ? examples/s]"
      ]
     },
     "metadata": {},
     "output_type": "display_data"
    }
   ],
   "source": [
    "from datasets import load_dataset\n",
    "\n",
    "dataset_A = load_dataset(\"p1atdev/ichikara-instruction\", '20231115-1').rename_column(\"text\", \"instruction\")"
   ]
  },
  {
   "cell_type": "code",
   "execution_count": 14,
   "id": "c16f4cd7-6076-4c17-9d92-50b74fb0aa9e",
   "metadata": {
    "scrolled": true
   },
   "outputs": [
    {
     "data": {
      "application/vnd.jupyter.widget-view+json": {
       "model_id": "2c98afd4a939470a8a76d79a47c2ea1f",
       "version_major": 2,
       "version_minor": 0
      },
      "text/plain": [
       "Map:   0%|          | 0/1729 [00:00<?, ? examples/s]"
      ]
     },
     "metadata": {},
     "output_type": "display_data"
    }
   ],
   "source": [
    "templated_dataset_A = dataset_A.map(lambda row: {'text' : tokenizer.apply_chat_template([{'role': 'user', 'content': row['instruction']}, {'role': 'assistant', 'content': row['output'] }], tokenize=False).strip()})"
   ]
  },
  {
   "cell_type": "code",
   "execution_count": 15,
   "id": "4a93050c-1f24-4a4f-8a1f-d34fad499791",
   "metadata": {},
   "outputs": [
    {
     "data": {
      "application/vnd.jupyter.widget-view+json": {
       "model_id": "680ffca84e474ec4a237b83a7b9a4ad7",
       "version_major": 2,
       "version_minor": 0
      },
      "text/plain": [
       "Downloading readme:   0%|          | 0.00/6.91k [00:00<?, ?B/s]"
      ]
     },
     "metadata": {},
     "output_type": "display_data"
    },
    {
     "data": {
      "application/vnd.jupyter.widget-view+json": {
       "model_id": "82be42c873ad4b1e92b6352d465ee075",
       "version_major": 2,
       "version_minor": 0
      },
      "text/plain": [
       "Downloading data:   0%|          | 0.00/84.2M [00:00<?, ?B/s]"
      ]
     },
     "metadata": {},
     "output_type": "display_data"
    },
    {
     "data": {
      "application/vnd.jupyter.widget-view+json": {
       "model_id": "437b066ed0b54e29af919340b76c6d3d",
       "version_major": 2,
       "version_minor": 0
      },
      "text/plain": [
       "Generating train split:   0%|          | 0/200035 [00:00<?, ? examples/s]"
      ]
     },
     "metadata": {},
     "output_type": "display_data"
    }
   ],
   "source": [
    "from datasets import load_dataset\n",
    "\n",
    "dataset_B = load_dataset(\"microsoft/orca-math-word-problems-200k\")"
   ]
  },
  {
   "cell_type": "code",
   "execution_count": 16,
   "id": "1c4a9cd3-b204-4a75-b97b-af15ca6893f9",
   "metadata": {},
   "outputs": [
    {
     "data": {
      "application/vnd.jupyter.widget-view+json": {
       "model_id": "d525962217c14ff88dad09f425468964",
       "version_major": 2,
       "version_minor": 0
      },
      "text/plain": [
       "Map:   0%|          | 0/200035 [00:00<?, ? examples/s]"
      ]
     },
     "metadata": {},
     "output_type": "display_data"
    }
   ],
   "source": [
    "templated_dataset_B = dataset_B.map(lambda row: {'text' : tokenizer.apply_chat_template([{'role': 'user', 'content': row['question']}, {'role': 'assistant', 'content': row['answer'] }], tokenize=False).strip()})"
   ]
  },
  {
   "cell_type": "code",
   "execution_count": 17,
   "id": "eeab0566-f0d8-4280-b75d-7dd2994a4fa3",
   "metadata": {},
   "outputs": [
    {
     "data": {
      "application/vnd.jupyter.widget-view+json": {
       "model_id": "5d9af7b0c3ec4072ac93ba6b795cf70a",
       "version_major": 2,
       "version_minor": 0
      },
      "text/plain": [
       "Downloading readme:   0%|          | 0.00/4.45k [00:00<?, ?B/s]"
      ]
     },
     "metadata": {},
     "output_type": "display_data"
    },
    {
     "data": {
      "application/vnd.jupyter.widget-view+json": {
       "model_id": "8c6e396be2dd41998ebdc47b505229bc",
       "version_major": 2,
       "version_minor": 0
      },
      "text/plain": [
       "Downloading data:   0%|          | 0.00/396M [00:00<?, ?B/s]"
      ]
     },
     "metadata": {},
     "output_type": "display_data"
    },
    {
     "data": {
      "application/vnd.jupyter.widget-view+json": {
       "model_id": "1f41a9db2cef4173b6715420f9f465e2",
       "version_major": 2,
       "version_minor": 0
      },
      "text/plain": [
       "Generating train split:   0%|          | 0/395000 [00:00<?, ? examples/s]"
      ]
     },
     "metadata": {},
     "output_type": "display_data"
    }
   ],
   "source": [
    "from datasets import load_dataset\n",
    "\n",
    "dataset_C = load_dataset(\"meta-math/MetaMathQA\")"
   ]
  },
  {
   "cell_type": "code",
   "execution_count": 18,
   "id": "1a8a0702-057e-4337-b805-b4cded87da30",
   "metadata": {},
   "outputs": [
    {
     "data": {
      "application/vnd.jupyter.widget-view+json": {
       "model_id": "81935b5b1006454ab6d55177a4b721e0",
       "version_major": 2,
       "version_minor": 0
      },
      "text/plain": [
       "Map:   0%|          | 0/395000 [00:00<?, ? examples/s]"
      ]
     },
     "metadata": {},
     "output_type": "display_data"
    }
   ],
   "source": [
    "templated_dataset_C = dataset_C.map(lambda row: {'text' : tokenizer.apply_chat_template([{'role': 'user', 'content': row['query']}, {'role': 'assistant', 'content': row['response'] }], tokenize=False).strip()})"
   ]
  },
  {
   "cell_type": "code",
   "execution_count": 23,
   "id": "cfb283f9-3fea-4629-86c1-5d549f1df656",
   "metadata": {},
   "outputs": [],
   "source": [
    "for module in base_model.modules():\n",
    "    if isinstance(module, ZipLoRATripleLinearLayer) or isinstance(module, ZipLoRATripleEmbedding):\n",
    "        for param in module.parameters():\n",
    "            param.requires_grad = True\n",
    "    else:\n",
    "        for param in module.parameters():\n",
    "            param.requires_grad = False"
   ]
  },
  {
   "cell_type": "code",
   "execution_count": 20,
   "id": "5419cb7f-ba7a-4f96-be45-d3e40b1e5e4b",
   "metadata": {},
   "outputs": [],
   "source": [
    "def compute_ziplora_loss_for_lm(model, prompt_a, prompt_b, prompt_c, lambda_coef=0.01, temperature=2.0):\n",
    "    # Tokenize inputs\n",
    "    batch = tokenizer([prompt_a, prompt_b, prompt_c], padding=\"max_length\", truncation=True, max_length=4096, return_tensors='pt')\n",
    "\n",
    "    input_ids = batch[\"input_ids\"].to(model.device)\n",
    "    attention_mask = batch[\"attention_mask\"].to(model.device)\n",
    "\n",
    "    # Split inputs for a, b, and c\n",
    "    input_a = input_ids[0].to(model.device)\n",
    "    input_b = input_ids[1].to(model.device)\n",
    "    input_c = input_ids[2].to(model.device)\n",
    "\n",
    "    # Prepare labels (shifted input_ids)\n",
    "    labels = batch[\"input_ids\"].clone()\n",
    "    labels[attention_mask == 0] = -100  # Set padding token positions to -100\n",
    "\n",
    "    labels_a = labels[0].to(model.device)\n",
    "    labels_b = labels[1].to(model.device)\n",
    "    labels_c = labels[2].to(model.device)\n",
    "\n",
    "    with torch.no_grad():\n",
    "        # Get logits from model_A\n",
    "        model.set_forward_type('weight_1')\n",
    "        original_logits_a = model(input_ids=input_a.unsqueeze(0), labels=labels_a.unsqueeze(0)).logits\n",
    "\n",
    "        # Get logits from model_B\n",
    "        model.set_forward_type('weight_2')\n",
    "        original_logits_b = model(input_ids=input_b.unsqueeze(0), labels=labels_b.unsqueeze(0)).logits\n",
    "\n",
    "        # Get logits from model_C\n",
    "        model.set_forward_type('weight_3')\n",
    "        original_logits_c = model(input_ids=input_c.unsqueeze(0), labels=labels_c.unsqueeze(0)).logits\n",
    "\n",
    "    model.set_forward_type('merge')\n",
    "\n",
    "    # Get logits from merged model for all inputs\n",
    "    merged_logits_a = model(input_ids=input_a.unsqueeze(0), labels=labels_a.unsqueeze(0)).logits\n",
    "    merged_logits_b = model(input_ids=input_b.unsqueeze(0), labels=labels_b.unsqueeze(0)).logits\n",
    "    merged_logits_c = model(input_ids=input_c.unsqueeze(0), labels=labels_c.unsqueeze(0)).logits\n",
    "\n",
    "    # Calculate losses (KL divergence between merged and original logits)\n",
    "    loss_a = F.kl_div(\n",
    "        F.log_softmax(merged_logits_a / temperature, dim=-1),\n",
    "        F.softmax(original_logits_a / temperature, dim=-1),\n",
    "        reduction='batchmean'\n",
    "    ) * (temperature ** 2) / len(input_a)\n",
    "    \n",
    "    loss_b = F.kl_div(\n",
    "        F.log_softmax(merged_logits_b / temperature, dim=-1),\n",
    "        F.softmax(original_logits_b / temperature, dim=-1),\n",
    "        reduction='batchmean'\n",
    "    ) * (temperature ** 2) / len(input_b)\n",
    "    \n",
    "    loss_c = F.kl_div(\n",
    "        F.log_softmax(merged_logits_c / temperature, dim=-1),\n",
    "        F.softmax(original_logits_c / temperature, dim=-1),\n",
    "        reduction='batchmean'\n",
    "    ) * (temperature ** 2) / len(input_c)\n",
    "    \n",
    "    # Calculate similarity loss to encourage diversity between mergers\n",
    "    similarity_loss = torch.tensor(0.0)\n",
    "    for module in base_model.modules():\n",
    "        if isinstance(module, ZipLoRATripleLinearLayer) or isinstance(module, ZipLoRATripleEmbedding):\n",
    "            similarity_loss += module.compute_mergers_similarity().to(similarity_loss.device)\n",
    "    \n",
    "    # Combine losses\n",
    "    total_loss = loss_a + loss_b + loss_c + lambda_coef * similarity_loss\n",
    "\n",
    "    return total_loss"
   ]
  },
  {
   "cell_type": "code",
   "execution_count": null,
   "id": "0814fdc8-6bda-4fc7-9fc8-ae0f2a5c4d28",
   "metadata": {},
   "outputs": [
    {
     "data": {
      "image/png": "[encoded data removed]",
      "text/plain": [
       "<Figure size 640x480 with 1 Axes>"
      ]
     },
     "metadata": {},
     "output_type": "display_data"
    },
    {
     "name": "stderr",
     "output_type": "stream",
     "text": [
      "Epoch 1/1:  18%|█▊        | 313/1729 [43:44<3:18:03,  8.39s/it, loss=4.6893]"
     ]
    }
   ],
   "source": [
    "import torch\n",
    "from torch.utils.data import DataLoader\n",
    "from transformers import AutoModelForCausalLM, AutoTokenizer\n",
    "from datasets import load_dataset\n",
    "from tqdm import tqdm\n",
    "import matplotlib.pyplot as plt\n",
    "from IPython.display import clear_output\n",
    "import random\n",
    "\n",
    "tokenizer.pad_token = tokenizer.eos_token\n",
    "optimizer = torch.optim.AdamW([p for p in base_model.parameters() if p.requires_grad], lr=1e-3)\n",
    "\n",
    "num_epochs = 1\n",
    "\n",
    "plt.figure(figsize=(10,5))\n",
    "plt.title(\"Training Loss\")\n",
    "plt.xlabel(\"Iteration\")\n",
    "plt.ylabel(\"Loss\")\n",
    "losses = []\n",
    "\n",
    "for epoch in range(num_epochs):\n",
    "    base_model.train()\n",
    "    total_loss = 0\n",
    "    \n",
    "    progress_bar = tqdm(zip(\n",
    "        random.sample(templated_dataset_A['train']['text'], len(templated_dataset_A['train']['text'])),\n",
    "        random.sample(templated_dataset_B['train']['text'], len(templated_dataset_B['train']['text'])),\n",
    "        random.sample(templated_dataset_C['train']['text'], len(templated_dataset_C['train']['text']))\n",
    "    ), \n",
    "    total=min([len(templated_dataset_A['train']['text']), len(templated_dataset_B['train']['text']), len(templated_dataset_C['train']['text'])]),\n",
    "    desc=f\"Epoch {epoch+1}/{num_epochs}\")\n",
    "    \n",
    "    for i, (prompt_a, prompt_b, prompt_c) in enumerate(progress_bar):\n",
    "        loss = compute_ziplora_loss_for_lm(base_model, prompt_a, prompt_b, prompt_c)\n",
    "\n",
    "        loss.backward()\n",
    "        \n",
    "        optimizer.step()\n",
    "        optimizer.zero_grad()\n",
    "        \n",
    "        current_loss = loss.item()\n",
    "        total_loss += current_loss\n",
    "        losses.append(current_loss)\n",
    "\n",
    "        progress_bar.set_postfix({'loss': f'{current_loss:.4f}'})\n",
    "\n",
    "        if i % 10 == 0:\n",
    "            clear_output(wait=True)\n",
    "            plt.clf()\n",
    "            plt.plot(losses)\n",
    "            plt.title(\"Training Loss\")\n",
    "            plt.xlabel(\"Iteration\")\n",
    "            plt.ylabel(\"Loss\")\n",
    "            plt.show()\n",
    "\n",
    "        if i > 550:\n",
    "            break\n",
    "    \n",
    "    avg_loss = total_loss / len(progress_bar)\n",
    "    print(f\"Epoch {epoch+1}/{num_epochs}, Average Loss: {avg_loss:.4f}\")\n",
    "\n",
    "plt.figure(figsize=(10,5))\n",
    "plt.plot(losses)\n",
    "plt.title(\"Training Loss\")\n",
    "plt.xlabel(\"Iteration\")\n",
    "plt.ylabel(\"Loss\")\n",
    "plt.show()"
   ]
  },
  {
   "cell_type": "code",
   "execution_count": null,
   "id": "c4461cff-250f-4aaf-b638-294878be522b",
   "metadata": {},
   "outputs": [],
   "source": [
    "import torch\n",
    "from transformers import AutoModelForCausalLM\n",
    "from tqdm import tqdm\n",
    "\n",
    "# Create a new model instance with the same architecture as the base model\n",
    "new_model = AutoModelForCausalLM.from_pretrained(MODEL_ID, torch_dtype=torch.bfloat16)\n",
    "\n",
    "# Iterate through all modules and update weights for ZipLoRALinearLayers\n",
    "for (name, module), (_, new_module) in tqdm(zip(base_model.named_modules(), new_model.named_modules()), \n",
    "                                            desc=\"Merging layers\"):\n",
    "    if isinstance(module, ZipLoRATripleLinearLayer):\n",
    "        # Get the merged weight and bias\n",
    "        merged_weight = module.get_ziplora_weight()\n",
    "        merged_bias = module.get_ziplora_bias()\n",
    "        \n",
    "        # Update the weights and bias of the corresponding layer in the new model\n",
    "        new_module.weight.data = merged_weight\n",
    "        if merged_bias is not None:\n",
    "            new_module.bias.data = merged_bias\n",
    "            \n",
    "    if isinstance(module, ZipLoRATripleEmbedding):\n",
    "        merged_weight = module.get_ziplora_weight()\n",
    "        new_module.weight.data = merged_weight\n",
    "\n",
    "# Save the new model\n",
    "new_model.save_pretrained(\"/workspace/zip_merged-again\")\n",
    "tokenizer.save_pretrained(\"/workspace/zip_merged-again\")\n",
    "\n",
    "print(\"Merged model saved successfully!\")"
   ]
  }
 ],
 "metadata": {
  "kernelspec": {
   "display_name": "Python 3 (ipykernel)",
   "language": "python",
   "name": "python3"
  },
  "language_info": {
   "codemirror_mode": {
    "name": "ipython",
    "version": 3
   },
   "file_extension": ".py",
   "mimetype": "text/x-python",
   "name": "python",
   "nbconvert_exporter": "python",
   "pygments_lexer": "ipython3",
   "version": "3.10.12"
  }
 },
 "nbformat": 4,
 "nbformat_minor": 5
}
